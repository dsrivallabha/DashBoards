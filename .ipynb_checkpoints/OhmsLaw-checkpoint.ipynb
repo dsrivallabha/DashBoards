{
 "cells": [
  {
   "cell_type": "code",
   "execution_count": 1,
   "id": "933c694a-8cc2-41ce-9603-39815abb200e",
   "metadata": {},
   "outputs": [],
   "source": [
    "import panel as pn "
   ]
  },
  {
   "cell_type": "code",
   "execution_count": 2,
   "id": "e19d56e0-eb52-4b26-8b42-ff19b929b286",
   "metadata": {},
   "outputs": [
    {
     "data": {
      "application/javascript": [
       "(function(root) {\n",
       "  function now() {\n",
       "    return new Date();\n",
       "  }\n",
       "\n",
       "  var force = true;\n",
       "\n",
       "  if (typeof root._bokeh_onload_callbacks === \"undefined\" || force === true) {\n",
       "    root._bokeh_onload_callbacks = [];\n",
       "    root._bokeh_is_loading = undefined;\n",
       "  }\n",
       "\n",
       "  if (typeof (root._bokeh_timeout) === \"undefined\" || force === true) {\n",
       "    root._bokeh_timeout = Date.now() + 5000;\n",
       "    root._bokeh_failed_load = false;\n",
       "  }\n",
       "\n",
       "  function run_callbacks() {\n",
       "    try {\n",
       "      root._bokeh_onload_callbacks.forEach(function(callback) {\n",
       "        if (callback != null)\n",
       "          callback();\n",
       "      });\n",
       "    } finally {\n",
       "      delete root._bokeh_onload_callbacks\n",
       "    }\n",
       "    console.debug(\"Bokeh: all callbacks have finished\");\n",
       "  }\n",
       "\n",
       "  function load_libs(css_urls, js_urls, js_modules, callback) {\n",
       "    if (css_urls == null) css_urls = [];\n",
       "    if (js_urls == null) js_urls = [];\n",
       "    if (js_modules == null) js_modules = [];\n",
       "\n",
       "    root._bokeh_onload_callbacks.push(callback);\n",
       "    if (root._bokeh_is_loading > 0) {\n",
       "      console.debug(\"Bokeh: BokehJS is being loaded, scheduling callback at\", now());\n",
       "      return null;\n",
       "    }\n",
       "    if (js_urls.length === 0 && js_modules.length === 0) {\n",
       "      run_callbacks();\n",
       "      return null;\n",
       "    }\n",
       "    console.debug(\"Bokeh: BokehJS not loaded, scheduling load and callback at\", now());\n",
       "\n",
       "    function on_load() {\n",
       "      root._bokeh_is_loading--;\n",
       "      if (root._bokeh_is_loading === 0) {\n",
       "        console.debug(\"Bokeh: all BokehJS libraries/stylesheets loaded\");\n",
       "        run_callbacks()\n",
       "      }\n",
       "    }\n",
       "\n",
       "    function on_error() {\n",
       "      console.error(\"failed to load \" + url);\n",
       "    }\n",
       "\n",
       "    for (var i = 0; i < css_urls.length; i++) {\n",
       "      var url = css_urls[i];\n",
       "      const element = document.createElement(\"link\");\n",
       "      element.onload = on_load;\n",
       "      element.onerror = on_error;\n",
       "      element.rel = \"stylesheet\";\n",
       "      element.type = \"text/css\";\n",
       "      element.href = url;\n",
       "      console.debug(\"Bokeh: injecting link tag for BokehJS stylesheet: \", url);\n",
       "      document.body.appendChild(element);\n",
       "    }\n",
       "\n",
       "    var skip = [];\n",
       "    if (window.requirejs) {\n",
       "      window.requirejs.config({'packages': {}, 'paths': {'gridstack': 'https://cdn.jsdelivr.net/npm/gridstack@4.2.5/dist/gridstack-h5', 'notyf': 'https://cdn.jsdelivr.net/npm/notyf@3/notyf.min'}, 'shim': {'gridstack': {'exports': 'GridStack'}}});\n",
       "      require([\"gridstack\"], function(GridStack) {\n",
       "\twindow.GridStack = GridStack\n",
       "\ton_load()\n",
       "      })\n",
       "      require([\"notyf\"], function() {\n",
       "\ton_load()\n",
       "      })\n",
       "      root._bokeh_is_loading = css_urls.length + 2;\n",
       "    } else {\n",
       "      root._bokeh_is_loading = css_urls.length + js_urls.length + js_modules.length;\n",
       "    }    if (((window['GridStack'] !== undefined) && (!(window['GridStack'] instanceof HTMLElement))) || window.requirejs) {\n",
       "      var urls = ['https://cdn.holoviz.org/panel/0.14.2/dist/bundled/gridstack/gridstack@4.2.5/dist/gridstack-h5.js'];\n",
       "      for (var i = 0; i < urls.length; i++) {\n",
       "        skip.push(urls[i])\n",
       "      }\n",
       "    }    if (((window['Notyf'] !== undefined) && (!(window['Notyf'] instanceof HTMLElement))) || window.requirejs) {\n",
       "      var urls = ['https://cdn.holoviz.org/panel/0.14.2/dist/bundled/notificationarea/notyf@3/notyf.min.js'];\n",
       "      for (var i = 0; i < urls.length; i++) {\n",
       "        skip.push(urls[i])\n",
       "      }\n",
       "    }    for (var i = 0; i < js_urls.length; i++) {\n",
       "      var url = js_urls[i];\n",
       "      if (skip.indexOf(url) >= 0) {\n",
       "\tif (!window.requirejs) {\n",
       "\t  on_load();\n",
       "\t}\n",
       "\tcontinue;\n",
       "      }\n",
       "      var element = document.createElement('script');\n",
       "      element.onload = on_load;\n",
       "      element.onerror = on_error;\n",
       "      element.async = false;\n",
       "      element.src = url;\n",
       "      console.debug(\"Bokeh: injecting script tag for BokehJS library: \", url);\n",
       "      document.head.appendChild(element);\n",
       "    }\n",
       "    for (var i = 0; i < js_modules.length; i++) {\n",
       "      var url = js_modules[i];\n",
       "      if (skip.indexOf(url) >= 0) {\n",
       "\tif (!window.requirejs) {\n",
       "\t  on_load();\n",
       "\t}\n",
       "\tcontinue;\n",
       "      }\n",
       "      var element = document.createElement('script');\n",
       "      element.onload = on_load;\n",
       "      element.onerror = on_error;\n",
       "      element.async = false;\n",
       "      element.src = url;\n",
       "      element.type = \"module\";\n",
       "      console.debug(\"Bokeh: injecting script tag for BokehJS library: \", url);\n",
       "      document.head.appendChild(element);\n",
       "    }\n",
       "    if (!js_urls.length && !js_modules.length) {\n",
       "      on_load()\n",
       "    }\n",
       "  };\n",
       "\n",
       "  function inject_raw_css(css) {\n",
       "    const element = document.createElement(\"style\");\n",
       "    element.appendChild(document.createTextNode(css));\n",
       "    document.body.appendChild(element);\n",
       "  }\n",
       "\n",
       "  var js_urls = [\"https://cdn.bokeh.org/bokeh/release/bokeh-2.4.3.min.js\", \"https://cdn.bokeh.org/bokeh/release/bokeh-gl-2.4.3.min.js\", \"https://cdn.bokeh.org/bokeh/release/bokeh-widgets-2.4.3.min.js\", \"https://cdn.bokeh.org/bokeh/release/bokeh-tables-2.4.3.min.js\", \"https://cdn.bokeh.org/bokeh/release/bokeh-mathjax-2.4.3.min.js\", \"https://unpkg.com/@holoviz/panel@0.14.2/dist/panel.min.js\"];\n",
       "  var js_modules = [];\n",
       "  var css_urls = [\"https://cdn.holoviz.org/panel/0.14.2/dist/css/dataframe.css\", \"https://cdn.holoviz.org/panel/0.14.2/dist/css/card.css\", \"https://cdn.holoviz.org/panel/0.14.2/dist/css/widgets.css\", \"https://cdn.holoviz.org/panel/0.14.2/dist/css/alerts.css\", \"https://cdn.holoviz.org/panel/0.14.2/dist/css/debugger.css\", \"https://cdn.holoviz.org/panel/0.14.2/dist/css/json.css\", \"https://cdn.holoviz.org/panel/0.14.2/dist/css/markdown.css\", \"https://cdn.holoviz.org/panel/0.14.2/dist/css/loading.css\"];\n",
       "  var inline_js = [    function(Bokeh) {\n",
       "      inject_raw_css(\"\\n    .bk.pn-loading.arc:before {\\n      background-image: url(\\\"data:image/svg+xml;base64,PHN2ZyB4bWxucz0iaHR0cDovL3d3dy53My5vcmcvMjAwMC9zdmciIHN0eWxlPSJtYXJnaW46IGF1dG87IGJhY2tncm91bmQ6IG5vbmU7IGRpc3BsYXk6IGJsb2NrOyBzaGFwZS1yZW5kZXJpbmc6IGF1dG87IiB2aWV3Qm94PSIwIDAgMTAwIDEwMCIgcHJlc2VydmVBc3BlY3RSYXRpbz0ieE1pZFlNaWQiPiAgPGNpcmNsZSBjeD0iNTAiIGN5PSI1MCIgZmlsbD0ibm9uZSIgc3Ryb2tlPSIjYzNjM2MzIiBzdHJva2Utd2lkdGg9IjEwIiByPSIzNSIgc3Ryb2tlLWRhc2hhcnJheT0iMTY0LjkzMzYxNDMxMzQ2NDE1IDU2Ljk3Nzg3MTQzNzgyMTM4Ij4gICAgPGFuaW1hdGVUcmFuc2Zvcm0gYXR0cmlidXRlTmFtZT0idHJhbnNmb3JtIiB0eXBlPSJyb3RhdGUiIHJlcGVhdENvdW50PSJpbmRlZmluaXRlIiBkdXI9IjFzIiB2YWx1ZXM9IjAgNTAgNTA7MzYwIDUwIDUwIiBrZXlUaW1lcz0iMDsxIj48L2FuaW1hdGVUcmFuc2Zvcm0+ICA8L2NpcmNsZT48L3N2Zz4=\\\");\\n      background-size: auto calc(min(50%, 400px));\\n    }\\n    \");\n",
       "    },    function(Bokeh) {\n",
       "      Bokeh.set_log_level(\"info\");\n",
       "    },\n",
       "function(Bokeh) {} // ensure no trailing comma for IE\n",
       "  ];\n",
       "\n",
       "  function run_inline_js() {\n",
       "    if ((root.Bokeh !== undefined) || (force === true)) {\n",
       "      for (var i = 0; i < inline_js.length; i++) {\n",
       "        inline_js[i].call(root, root.Bokeh);\n",
       "      }} else if (Date.now() < root._bokeh_timeout) {\n",
       "      setTimeout(run_inline_js, 100);\n",
       "    } else if (!root._bokeh_failed_load) {\n",
       "      console.log(\"Bokeh: BokehJS failed to load within specified timeout.\");\n",
       "      root._bokeh_failed_load = true;\n",
       "    }\n",
       "  }\n",
       "\n",
       "  if (root._bokeh_is_loading === 0) {\n",
       "    console.debug(\"Bokeh: BokehJS loaded, going straight to plotting\");\n",
       "    run_inline_js();\n",
       "  } else {\n",
       "    load_libs(css_urls, js_urls, js_modules, function() {\n",
       "      console.debug(\"Bokeh: BokehJS plotting callback run at\", now());\n",
       "      run_inline_js();\n",
       "    });\n",
       "  }\n",
       "}(window));"
      ],
      "application/vnd.holoviews_load.v0+json": "(function(root) {\n  function now() {\n    return new Date();\n  }\n\n  var force = true;\n\n  if (typeof root._bokeh_onload_callbacks === \"undefined\" || force === true) {\n    root._bokeh_onload_callbacks = [];\n    root._bokeh_is_loading = undefined;\n  }\n\n  if (typeof (root._bokeh_timeout) === \"undefined\" || force === true) {\n    root._bokeh_timeout = Date.now() + 5000;\n    root._bokeh_failed_load = false;\n  }\n\n  function run_callbacks() {\n    try {\n      root._bokeh_onload_callbacks.forEach(function(callback) {\n        if (callback != null)\n          callback();\n      });\n    } finally {\n      delete root._bokeh_onload_callbacks\n    }\n    console.debug(\"Bokeh: all callbacks have finished\");\n  }\n\n  function load_libs(css_urls, js_urls, js_modules, callback) {\n    if (css_urls == null) css_urls = [];\n    if (js_urls == null) js_urls = [];\n    if (js_modules == null) js_modules = [];\n\n    root._bokeh_onload_callbacks.push(callback);\n    if (root._bokeh_is_loading > 0) {\n      console.debug(\"Bokeh: BokehJS is being loaded, scheduling callback at\", now());\n      return null;\n    }\n    if (js_urls.length === 0 && js_modules.length === 0) {\n      run_callbacks();\n      return null;\n    }\n    console.debug(\"Bokeh: BokehJS not loaded, scheduling load and callback at\", now());\n\n    function on_load() {\n      root._bokeh_is_loading--;\n      if (root._bokeh_is_loading === 0) {\n        console.debug(\"Bokeh: all BokehJS libraries/stylesheets loaded\");\n        run_callbacks()\n      }\n    }\n\n    function on_error() {\n      console.error(\"failed to load \" + url);\n    }\n\n    for (var i = 0; i < css_urls.length; i++) {\n      var url = css_urls[i];\n      const element = document.createElement(\"link\");\n      element.onload = on_load;\n      element.onerror = on_error;\n      element.rel = \"stylesheet\";\n      element.type = \"text/css\";\n      element.href = url;\n      console.debug(\"Bokeh: injecting link tag for BokehJS stylesheet: \", url);\n      document.body.appendChild(element);\n    }\n\n    var skip = [];\n    if (window.requirejs) {\n      window.requirejs.config({'packages': {}, 'paths': {'gridstack': 'https://cdn.jsdelivr.net/npm/gridstack@4.2.5/dist/gridstack-h5', 'notyf': 'https://cdn.jsdelivr.net/npm/notyf@3/notyf.min'}, 'shim': {'gridstack': {'exports': 'GridStack'}}});\n      require([\"gridstack\"], function(GridStack) {\n\twindow.GridStack = GridStack\n\ton_load()\n      })\n      require([\"notyf\"], function() {\n\ton_load()\n      })\n      root._bokeh_is_loading = css_urls.length + 2;\n    } else {\n      root._bokeh_is_loading = css_urls.length + js_urls.length + js_modules.length;\n    }    if (((window['GridStack'] !== undefined) && (!(window['GridStack'] instanceof HTMLElement))) || window.requirejs) {\n      var urls = ['https://cdn.holoviz.org/panel/0.14.2/dist/bundled/gridstack/gridstack@4.2.5/dist/gridstack-h5.js'];\n      for (var i = 0; i < urls.length; i++) {\n        skip.push(urls[i])\n      }\n    }    if (((window['Notyf'] !== undefined) && (!(window['Notyf'] instanceof HTMLElement))) || window.requirejs) {\n      var urls = ['https://cdn.holoviz.org/panel/0.14.2/dist/bundled/notificationarea/notyf@3/notyf.min.js'];\n      for (var i = 0; i < urls.length; i++) {\n        skip.push(urls[i])\n      }\n    }    for (var i = 0; i < js_urls.length; i++) {\n      var url = js_urls[i];\n      if (skip.indexOf(url) >= 0) {\n\tif (!window.requirejs) {\n\t  on_load();\n\t}\n\tcontinue;\n      }\n      var element = document.createElement('script');\n      element.onload = on_load;\n      element.onerror = on_error;\n      element.async = false;\n      element.src = url;\n      console.debug(\"Bokeh: injecting script tag for BokehJS library: \", url);\n      document.head.appendChild(element);\n    }\n    for (var i = 0; i < js_modules.length; i++) {\n      var url = js_modules[i];\n      if (skip.indexOf(url) >= 0) {\n\tif (!window.requirejs) {\n\t  on_load();\n\t}\n\tcontinue;\n      }\n      var element = document.createElement('script');\n      element.onload = on_load;\n      element.onerror = on_error;\n      element.async = false;\n      element.src = url;\n      element.type = \"module\";\n      console.debug(\"Bokeh: injecting script tag for BokehJS library: \", url);\n      document.head.appendChild(element);\n    }\n    if (!js_urls.length && !js_modules.length) {\n      on_load()\n    }\n  };\n\n  function inject_raw_css(css) {\n    const element = document.createElement(\"style\");\n    element.appendChild(document.createTextNode(css));\n    document.body.appendChild(element);\n  }\n\n  var js_urls = [\"https://cdn.bokeh.org/bokeh/release/bokeh-2.4.3.min.js\", \"https://cdn.bokeh.org/bokeh/release/bokeh-gl-2.4.3.min.js\", \"https://cdn.bokeh.org/bokeh/release/bokeh-widgets-2.4.3.min.js\", \"https://cdn.bokeh.org/bokeh/release/bokeh-tables-2.4.3.min.js\", \"https://cdn.bokeh.org/bokeh/release/bokeh-mathjax-2.4.3.min.js\", \"https://unpkg.com/@holoviz/panel@0.14.2/dist/panel.min.js\"];\n  var js_modules = [];\n  var css_urls = [\"https://cdn.holoviz.org/panel/0.14.2/dist/css/dataframe.css\", \"https://cdn.holoviz.org/panel/0.14.2/dist/css/card.css\", \"https://cdn.holoviz.org/panel/0.14.2/dist/css/widgets.css\", \"https://cdn.holoviz.org/panel/0.14.2/dist/css/alerts.css\", \"https://cdn.holoviz.org/panel/0.14.2/dist/css/debugger.css\", \"https://cdn.holoviz.org/panel/0.14.2/dist/css/json.css\", \"https://cdn.holoviz.org/panel/0.14.2/dist/css/markdown.css\", \"https://cdn.holoviz.org/panel/0.14.2/dist/css/loading.css\"];\n  var inline_js = [    function(Bokeh) {\n      inject_raw_css(\"\\n    .bk.pn-loading.arc:before {\\n      background-image: url(\\\"data:image/svg+xml;base64,PHN2ZyB4bWxucz0iaHR0cDovL3d3dy53My5vcmcvMjAwMC9zdmciIHN0eWxlPSJtYXJnaW46IGF1dG87IGJhY2tncm91bmQ6IG5vbmU7IGRpc3BsYXk6IGJsb2NrOyBzaGFwZS1yZW5kZXJpbmc6IGF1dG87IiB2aWV3Qm94PSIwIDAgMTAwIDEwMCIgcHJlc2VydmVBc3BlY3RSYXRpbz0ieE1pZFlNaWQiPiAgPGNpcmNsZSBjeD0iNTAiIGN5PSI1MCIgZmlsbD0ibm9uZSIgc3Ryb2tlPSIjYzNjM2MzIiBzdHJva2Utd2lkdGg9IjEwIiByPSIzNSIgc3Ryb2tlLWRhc2hhcnJheT0iMTY0LjkzMzYxNDMxMzQ2NDE1IDU2Ljk3Nzg3MTQzNzgyMTM4Ij4gICAgPGFuaW1hdGVUcmFuc2Zvcm0gYXR0cmlidXRlTmFtZT0idHJhbnNmb3JtIiB0eXBlPSJyb3RhdGUiIHJlcGVhdENvdW50PSJpbmRlZmluaXRlIiBkdXI9IjFzIiB2YWx1ZXM9IjAgNTAgNTA7MzYwIDUwIDUwIiBrZXlUaW1lcz0iMDsxIj48L2FuaW1hdGVUcmFuc2Zvcm0+ICA8L2NpcmNsZT48L3N2Zz4=\\\");\\n      background-size: auto calc(min(50%, 400px));\\n    }\\n    \");\n    },    function(Bokeh) {\n      Bokeh.set_log_level(\"info\");\n    },\nfunction(Bokeh) {} // ensure no trailing comma for IE\n  ];\n\n  function run_inline_js() {\n    if ((root.Bokeh !== undefined) || (force === true)) {\n      for (var i = 0; i < inline_js.length; i++) {\n        inline_js[i].call(root, root.Bokeh);\n      }} else if (Date.now() < root._bokeh_timeout) {\n      setTimeout(run_inline_js, 100);\n    } else if (!root._bokeh_failed_load) {\n      console.log(\"Bokeh: BokehJS failed to load within specified timeout.\");\n      root._bokeh_failed_load = true;\n    }\n  }\n\n  if (root._bokeh_is_loading === 0) {\n    console.debug(\"Bokeh: BokehJS loaded, going straight to plotting\");\n    run_inline_js();\n  } else {\n    load_libs(css_urls, js_urls, js_modules, function() {\n      console.debug(\"Bokeh: BokehJS plotting callback run at\", now());\n      run_inline_js();\n    });\n  }\n}(window));"
     },
     "metadata": {},
     "output_type": "display_data"
    },
    {
     "data": {
      "application/javascript": [
       "\n",
       "if ((window.PyViz === undefined) || (window.PyViz instanceof HTMLElement)) {\n",
       "  window.PyViz = {comms: {}, comm_status:{}, kernels:{}, receivers: {}, plot_index: []}\n",
       "}\n",
       "\n",
       "\n",
       "    function JupyterCommManager() {\n",
       "    }\n",
       "\n",
       "    JupyterCommManager.prototype.register_target = function(plot_id, comm_id, msg_handler) {\n",
       "      if (window.comm_manager || ((window.Jupyter !== undefined) && (Jupyter.notebook.kernel != null))) {\n",
       "        var comm_manager = window.comm_manager || Jupyter.notebook.kernel.comm_manager;\n",
       "        comm_manager.register_target(comm_id, function(comm) {\n",
       "          comm.on_msg(msg_handler);\n",
       "        });\n",
       "      } else if ((plot_id in window.PyViz.kernels) && (window.PyViz.kernels[plot_id])) {\n",
       "        window.PyViz.kernels[plot_id].registerCommTarget(comm_id, function(comm) {\n",
       "          comm.onMsg = msg_handler;\n",
       "        });\n",
       "      } else if (typeof google != 'undefined' && google.colab.kernel != null) {\n",
       "        google.colab.kernel.comms.registerTarget(comm_id, (comm) => {\n",
       "          var messages = comm.messages[Symbol.asyncIterator]();\n",
       "          function processIteratorResult(result) {\n",
       "            var message = result.value;\n",
       "            console.log(message)\n",
       "            var content = {data: message.data, comm_id};\n",
       "            var buffers = []\n",
       "            for (var buffer of message.buffers || []) {\n",
       "              buffers.push(new DataView(buffer))\n",
       "            }\n",
       "            var metadata = message.metadata || {};\n",
       "            var msg = {content, buffers, metadata}\n",
       "            msg_handler(msg);\n",
       "            return messages.next().then(processIteratorResult);\n",
       "          }\n",
       "          return messages.next().then(processIteratorResult);\n",
       "        })\n",
       "      }\n",
       "    }\n",
       "\n",
       "    JupyterCommManager.prototype.get_client_comm = function(plot_id, comm_id, msg_handler) {\n",
       "      if (comm_id in window.PyViz.comms) {\n",
       "        return window.PyViz.comms[comm_id];\n",
       "      } else if (window.comm_manager || ((window.Jupyter !== undefined) && (Jupyter.notebook.kernel != null))) {\n",
       "        var comm_manager = window.comm_manager || Jupyter.notebook.kernel.comm_manager;\n",
       "        var comm = comm_manager.new_comm(comm_id, {}, {}, {}, comm_id);\n",
       "        if (msg_handler) {\n",
       "          comm.on_msg(msg_handler);\n",
       "        }\n",
       "      } else if ((plot_id in window.PyViz.kernels) && (window.PyViz.kernels[plot_id])) {\n",
       "        var comm = window.PyViz.kernels[plot_id].connectToComm(comm_id);\n",
       "        comm.open();\n",
       "        if (msg_handler) {\n",
       "          comm.onMsg = msg_handler;\n",
       "        }\n",
       "      } else if (typeof google != 'undefined' && google.colab.kernel != null) {\n",
       "        var comm_promise = google.colab.kernel.comms.open(comm_id)\n",
       "        comm_promise.then((comm) => {\n",
       "          window.PyViz.comms[comm_id] = comm;\n",
       "          if (msg_handler) {\n",
       "            var messages = comm.messages[Symbol.asyncIterator]();\n",
       "            function processIteratorResult(result) {\n",
       "              var message = result.value;\n",
       "              var content = {data: message.data};\n",
       "              var metadata = message.metadata || {comm_id};\n",
       "              var msg = {content, metadata}\n",
       "              msg_handler(msg);\n",
       "              return messages.next().then(processIteratorResult);\n",
       "            }\n",
       "            return messages.next().then(processIteratorResult);\n",
       "          }\n",
       "        }) \n",
       "        var sendClosure = (data, metadata, buffers, disposeOnDone) => {\n",
       "          return comm_promise.then((comm) => {\n",
       "            comm.send(data, metadata, buffers, disposeOnDone);\n",
       "          });\n",
       "        };\n",
       "        var comm = {\n",
       "          send: sendClosure\n",
       "        };\n",
       "      }\n",
       "      window.PyViz.comms[comm_id] = comm;\n",
       "      return comm;\n",
       "    }\n",
       "    window.PyViz.comm_manager = new JupyterCommManager();\n",
       "    \n",
       "\n",
       "\n",
       "var JS_MIME_TYPE = 'application/javascript';\n",
       "var HTML_MIME_TYPE = 'text/html';\n",
       "var EXEC_MIME_TYPE = 'application/vnd.holoviews_exec.v0+json';\n",
       "var CLASS_NAME = 'output';\n",
       "\n",
       "/**\n",
       " * Render data to the DOM node\n",
       " */\n",
       "function render(props, node) {\n",
       "  var div = document.createElement(\"div\");\n",
       "  var script = document.createElement(\"script\");\n",
       "  node.appendChild(div);\n",
       "  node.appendChild(script);\n",
       "}\n",
       "\n",
       "/**\n",
       " * Handle when a new output is added\n",
       " */\n",
       "function handle_add_output(event, handle) {\n",
       "  var output_area = handle.output_area;\n",
       "  var output = handle.output;\n",
       "  if ((output.data == undefined) || (!output.data.hasOwnProperty(EXEC_MIME_TYPE))) {\n",
       "    return\n",
       "  }\n",
       "  var id = output.metadata[EXEC_MIME_TYPE][\"id\"];\n",
       "  var toinsert = output_area.element.find(\".\" + CLASS_NAME.split(' ')[0]);\n",
       "  if (id !== undefined) {\n",
       "    var nchildren = toinsert.length;\n",
       "    var html_node = toinsert[nchildren-1].children[0];\n",
       "    html_node.innerHTML = output.data[HTML_MIME_TYPE];\n",
       "    var scripts = [];\n",
       "    var nodelist = html_node.querySelectorAll(\"script\");\n",
       "    for (var i in nodelist) {\n",
       "      if (nodelist.hasOwnProperty(i)) {\n",
       "        scripts.push(nodelist[i])\n",
       "      }\n",
       "    }\n",
       "\n",
       "    scripts.forEach( function (oldScript) {\n",
       "      var newScript = document.createElement(\"script\");\n",
       "      var attrs = [];\n",
       "      var nodemap = oldScript.attributes;\n",
       "      for (var j in nodemap) {\n",
       "        if (nodemap.hasOwnProperty(j)) {\n",
       "          attrs.push(nodemap[j])\n",
       "        }\n",
       "      }\n",
       "      attrs.forEach(function(attr) { newScript.setAttribute(attr.name, attr.value) });\n",
       "      newScript.appendChild(document.createTextNode(oldScript.innerHTML));\n",
       "      oldScript.parentNode.replaceChild(newScript, oldScript);\n",
       "    });\n",
       "    if (JS_MIME_TYPE in output.data) {\n",
       "      toinsert[nchildren-1].children[1].textContent = output.data[JS_MIME_TYPE];\n",
       "    }\n",
       "    output_area._hv_plot_id = id;\n",
       "    if ((window.Bokeh !== undefined) && (id in Bokeh.index)) {\n",
       "      window.PyViz.plot_index[id] = Bokeh.index[id];\n",
       "    } else {\n",
       "      window.PyViz.plot_index[id] = null;\n",
       "    }\n",
       "  } else if (output.metadata[EXEC_MIME_TYPE][\"server_id\"] !== undefined) {\n",
       "    var bk_div = document.createElement(\"div\");\n",
       "    bk_div.innerHTML = output.data[HTML_MIME_TYPE];\n",
       "    var script_attrs = bk_div.children[0].attributes;\n",
       "    for (var i = 0; i < script_attrs.length; i++) {\n",
       "      toinsert[toinsert.length - 1].childNodes[1].setAttribute(script_attrs[i].name, script_attrs[i].value);\n",
       "    }\n",
       "    // store reference to server id on output_area\n",
       "    output_area._bokeh_server_id = output.metadata[EXEC_MIME_TYPE][\"server_id\"];\n",
       "  }\n",
       "}\n",
       "\n",
       "/**\n",
       " * Handle when an output is cleared or removed\n",
       " */\n",
       "function handle_clear_output(event, handle) {\n",
       "  var id = handle.cell.output_area._hv_plot_id;\n",
       "  var server_id = handle.cell.output_area._bokeh_server_id;\n",
       "  if (((id === undefined) || !(id in PyViz.plot_index)) && (server_id !== undefined)) { return; }\n",
       "  var comm = window.PyViz.comm_manager.get_client_comm(\"hv-extension-comm\", \"hv-extension-comm\", function () {});\n",
       "  if (server_id !== null) {\n",
       "    comm.send({event_type: 'server_delete', 'id': server_id});\n",
       "    return;\n",
       "  } else if (comm !== null) {\n",
       "    comm.send({event_type: 'delete', 'id': id});\n",
       "  }\n",
       "  delete PyViz.plot_index[id];\n",
       "  if ((window.Bokeh !== undefined) & (id in window.Bokeh.index)) {\n",
       "    var doc = window.Bokeh.index[id].model.document\n",
       "    doc.clear();\n",
       "    const i = window.Bokeh.documents.indexOf(doc);\n",
       "    if (i > -1) {\n",
       "      window.Bokeh.documents.splice(i, 1);\n",
       "    }\n",
       "  }\n",
       "}\n",
       "\n",
       "/**\n",
       " * Handle kernel restart event\n",
       " */\n",
       "function handle_kernel_cleanup(event, handle) {\n",
       "  delete PyViz.comms[\"hv-extension-comm\"];\n",
       "  window.PyViz.plot_index = {}\n",
       "}\n",
       "\n",
       "/**\n",
       " * Handle update_display_data messages\n",
       " */\n",
       "function handle_update_output(event, handle) {\n",
       "  handle_clear_output(event, {cell: {output_area: handle.output_area}})\n",
       "  handle_add_output(event, handle)\n",
       "}\n",
       "\n",
       "function register_renderer(events, OutputArea) {\n",
       "  function append_mime(data, metadata, element) {\n",
       "    // create a DOM node to render to\n",
       "    var toinsert = this.create_output_subarea(\n",
       "    metadata,\n",
       "    CLASS_NAME,\n",
       "    EXEC_MIME_TYPE\n",
       "    );\n",
       "    this.keyboard_manager.register_events(toinsert);\n",
       "    // Render to node\n",
       "    var props = {data: data, metadata: metadata[EXEC_MIME_TYPE]};\n",
       "    render(props, toinsert[0]);\n",
       "    element.append(toinsert);\n",
       "    return toinsert\n",
       "  }\n",
       "\n",
       "  events.on('output_added.OutputArea', handle_add_output);\n",
       "  events.on('output_updated.OutputArea', handle_update_output);\n",
       "  events.on('clear_output.CodeCell', handle_clear_output);\n",
       "  events.on('delete.Cell', handle_clear_output);\n",
       "  events.on('kernel_ready.Kernel', handle_kernel_cleanup);\n",
       "\n",
       "  OutputArea.prototype.register_mime_type(EXEC_MIME_TYPE, append_mime, {\n",
       "    safe: true,\n",
       "    index: 0\n",
       "  });\n",
       "}\n",
       "\n",
       "if (window.Jupyter !== undefined) {\n",
       "  try {\n",
       "    var events = require('base/js/events');\n",
       "    var OutputArea = require('notebook/js/outputarea').OutputArea;\n",
       "    if (OutputArea.prototype.mime_types().indexOf(EXEC_MIME_TYPE) == -1) {\n",
       "      register_renderer(events, OutputArea);\n",
       "    }\n",
       "  } catch(err) {\n",
       "  }\n",
       "}\n"
      ],
      "application/vnd.holoviews_load.v0+json": "\nif ((window.PyViz === undefined) || (window.PyViz instanceof HTMLElement)) {\n  window.PyViz = {comms: {}, comm_status:{}, kernels:{}, receivers: {}, plot_index: []}\n}\n\n\n    function JupyterCommManager() {\n    }\n\n    JupyterCommManager.prototype.register_target = function(plot_id, comm_id, msg_handler) {\n      if (window.comm_manager || ((window.Jupyter !== undefined) && (Jupyter.notebook.kernel != null))) {\n        var comm_manager = window.comm_manager || Jupyter.notebook.kernel.comm_manager;\n        comm_manager.register_target(comm_id, function(comm) {\n          comm.on_msg(msg_handler);\n        });\n      } else if ((plot_id in window.PyViz.kernels) && (window.PyViz.kernels[plot_id])) {\n        window.PyViz.kernels[plot_id].registerCommTarget(comm_id, function(comm) {\n          comm.onMsg = msg_handler;\n        });\n      } else if (typeof google != 'undefined' && google.colab.kernel != null) {\n        google.colab.kernel.comms.registerTarget(comm_id, (comm) => {\n          var messages = comm.messages[Symbol.asyncIterator]();\n          function processIteratorResult(result) {\n            var message = result.value;\n            console.log(message)\n            var content = {data: message.data, comm_id};\n            var buffers = []\n            for (var buffer of message.buffers || []) {\n              buffers.push(new DataView(buffer))\n            }\n            var metadata = message.metadata || {};\n            var msg = {content, buffers, metadata}\n            msg_handler(msg);\n            return messages.next().then(processIteratorResult);\n          }\n          return messages.next().then(processIteratorResult);\n        })\n      }\n    }\n\n    JupyterCommManager.prototype.get_client_comm = function(plot_id, comm_id, msg_handler) {\n      if (comm_id in window.PyViz.comms) {\n        return window.PyViz.comms[comm_id];\n      } else if (window.comm_manager || ((window.Jupyter !== undefined) && (Jupyter.notebook.kernel != null))) {\n        var comm_manager = window.comm_manager || Jupyter.notebook.kernel.comm_manager;\n        var comm = comm_manager.new_comm(comm_id, {}, {}, {}, comm_id);\n        if (msg_handler) {\n          comm.on_msg(msg_handler);\n        }\n      } else if ((plot_id in window.PyViz.kernels) && (window.PyViz.kernels[plot_id])) {\n        var comm = window.PyViz.kernels[plot_id].connectToComm(comm_id);\n        comm.open();\n        if (msg_handler) {\n          comm.onMsg = msg_handler;\n        }\n      } else if (typeof google != 'undefined' && google.colab.kernel != null) {\n        var comm_promise = google.colab.kernel.comms.open(comm_id)\n        comm_promise.then((comm) => {\n          window.PyViz.comms[comm_id] = comm;\n          if (msg_handler) {\n            var messages = comm.messages[Symbol.asyncIterator]();\n            function processIteratorResult(result) {\n              var message = result.value;\n              var content = {data: message.data};\n              var metadata = message.metadata || {comm_id};\n              var msg = {content, metadata}\n              msg_handler(msg);\n              return messages.next().then(processIteratorResult);\n            }\n            return messages.next().then(processIteratorResult);\n          }\n        }) \n        var sendClosure = (data, metadata, buffers, disposeOnDone) => {\n          return comm_promise.then((comm) => {\n            comm.send(data, metadata, buffers, disposeOnDone);\n          });\n        };\n        var comm = {\n          send: sendClosure\n        };\n      }\n      window.PyViz.comms[comm_id] = comm;\n      return comm;\n    }\n    window.PyViz.comm_manager = new JupyterCommManager();\n    \n\n\nvar JS_MIME_TYPE = 'application/javascript';\nvar HTML_MIME_TYPE = 'text/html';\nvar EXEC_MIME_TYPE = 'application/vnd.holoviews_exec.v0+json';\nvar CLASS_NAME = 'output';\n\n/**\n * Render data to the DOM node\n */\nfunction render(props, node) {\n  var div = document.createElement(\"div\");\n  var script = document.createElement(\"script\");\n  node.appendChild(div);\n  node.appendChild(script);\n}\n\n/**\n * Handle when a new output is added\n */\nfunction handle_add_output(event, handle) {\n  var output_area = handle.output_area;\n  var output = handle.output;\n  if ((output.data == undefined) || (!output.data.hasOwnProperty(EXEC_MIME_TYPE))) {\n    return\n  }\n  var id = output.metadata[EXEC_MIME_TYPE][\"id\"];\n  var toinsert = output_area.element.find(\".\" + CLASS_NAME.split(' ')[0]);\n  if (id !== undefined) {\n    var nchildren = toinsert.length;\n    var html_node = toinsert[nchildren-1].children[0];\n    html_node.innerHTML = output.data[HTML_MIME_TYPE];\n    var scripts = [];\n    var nodelist = html_node.querySelectorAll(\"script\");\n    for (var i in nodelist) {\n      if (nodelist.hasOwnProperty(i)) {\n        scripts.push(nodelist[i])\n      }\n    }\n\n    scripts.forEach( function (oldScript) {\n      var newScript = document.createElement(\"script\");\n      var attrs = [];\n      var nodemap = oldScript.attributes;\n      for (var j in nodemap) {\n        if (nodemap.hasOwnProperty(j)) {\n          attrs.push(nodemap[j])\n        }\n      }\n      attrs.forEach(function(attr) { newScript.setAttribute(attr.name, attr.value) });\n      newScript.appendChild(document.createTextNode(oldScript.innerHTML));\n      oldScript.parentNode.replaceChild(newScript, oldScript);\n    });\n    if (JS_MIME_TYPE in output.data) {\n      toinsert[nchildren-1].children[1].textContent = output.data[JS_MIME_TYPE];\n    }\n    output_area._hv_plot_id = id;\n    if ((window.Bokeh !== undefined) && (id in Bokeh.index)) {\n      window.PyViz.plot_index[id] = Bokeh.index[id];\n    } else {\n      window.PyViz.plot_index[id] = null;\n    }\n  } else if (output.metadata[EXEC_MIME_TYPE][\"server_id\"] !== undefined) {\n    var bk_div = document.createElement(\"div\");\n    bk_div.innerHTML = output.data[HTML_MIME_TYPE];\n    var script_attrs = bk_div.children[0].attributes;\n    for (var i = 0; i < script_attrs.length; i++) {\n      toinsert[toinsert.length - 1].childNodes[1].setAttribute(script_attrs[i].name, script_attrs[i].value);\n    }\n    // store reference to server id on output_area\n    output_area._bokeh_server_id = output.metadata[EXEC_MIME_TYPE][\"server_id\"];\n  }\n}\n\n/**\n * Handle when an output is cleared or removed\n */\nfunction handle_clear_output(event, handle) {\n  var id = handle.cell.output_area._hv_plot_id;\n  var server_id = handle.cell.output_area._bokeh_server_id;\n  if (((id === undefined) || !(id in PyViz.plot_index)) && (server_id !== undefined)) { return; }\n  var comm = window.PyViz.comm_manager.get_client_comm(\"hv-extension-comm\", \"hv-extension-comm\", function () {});\n  if (server_id !== null) {\n    comm.send({event_type: 'server_delete', 'id': server_id});\n    return;\n  } else if (comm !== null) {\n    comm.send({event_type: 'delete', 'id': id});\n  }\n  delete PyViz.plot_index[id];\n  if ((window.Bokeh !== undefined) & (id in window.Bokeh.index)) {\n    var doc = window.Bokeh.index[id].model.document\n    doc.clear();\n    const i = window.Bokeh.documents.indexOf(doc);\n    if (i > -1) {\n      window.Bokeh.documents.splice(i, 1);\n    }\n  }\n}\n\n/**\n * Handle kernel restart event\n */\nfunction handle_kernel_cleanup(event, handle) {\n  delete PyViz.comms[\"hv-extension-comm\"];\n  window.PyViz.plot_index = {}\n}\n\n/**\n * Handle update_display_data messages\n */\nfunction handle_update_output(event, handle) {\n  handle_clear_output(event, {cell: {output_area: handle.output_area}})\n  handle_add_output(event, handle)\n}\n\nfunction register_renderer(events, OutputArea) {\n  function append_mime(data, metadata, element) {\n    // create a DOM node to render to\n    var toinsert = this.create_output_subarea(\n    metadata,\n    CLASS_NAME,\n    EXEC_MIME_TYPE\n    );\n    this.keyboard_manager.register_events(toinsert);\n    // Render to node\n    var props = {data: data, metadata: metadata[EXEC_MIME_TYPE]};\n    render(props, toinsert[0]);\n    element.append(toinsert);\n    return toinsert\n  }\n\n  events.on('output_added.OutputArea', handle_add_output);\n  events.on('output_updated.OutputArea', handle_update_output);\n  events.on('clear_output.CodeCell', handle_clear_output);\n  events.on('delete.Cell', handle_clear_output);\n  events.on('kernel_ready.Kernel', handle_kernel_cleanup);\n\n  OutputArea.prototype.register_mime_type(EXEC_MIME_TYPE, append_mime, {\n    safe: true,\n    index: 0\n  });\n}\n\nif (window.Jupyter !== undefined) {\n  try {\n    var events = require('base/js/events');\n    var OutputArea = require('notebook/js/outputarea').OutputArea;\n    if (OutputArea.prototype.mime_types().indexOf(EXEC_MIME_TYPE) == -1) {\n      register_renderer(events, OutputArea);\n    }\n  } catch(err) {\n  }\n}\n"
     },
     "metadata": {},
     "output_type": "display_data"
    },
    {
     "data": {
      "text/html": [
       "<style>.bk-root, .bk-root .bk:before, .bk-root .bk:after {\n",
       "  font-family: var(--jp-ui-font-size1);\n",
       "  font-size: var(--jp-ui-font-size1);\n",
       "  color: var(--jp-ui-font-color1);\n",
       "}\n",
       "</style>"
      ]
     },
     "metadata": {},
     "output_type": "display_data"
    }
   ],
   "source": [
    "pn.extension()"
   ]
  },
  {
   "cell_type": "markdown",
   "id": "0bd9ae0d-47b4-4f58-aeae-06de32a5cc12",
   "metadata": {},
   "source": [
    "# Checking float inputs"
   ]
  },
  {
   "cell_type": "code",
   "execution_count": 3,
   "id": "117b9279-696d-46a4-91de-109d91917e6a",
   "metadata": {},
   "outputs": [
    {
     "data": {},
     "metadata": {},
     "output_type": "display_data"
    },
    {
     "data": {
      "application/vnd.holoviews_exec.v0+json": "",
      "text/html": [
       "<div id='1002'>\n",
       "  <div class=\"bk-root\" id=\"759c7458-70fb-4302-8aaf-ac9015365820\" data-root-id=\"1002\"></div>\n",
       "</div>\n",
       "<script type=\"application/javascript\">(function(root) {\n",
       "  function embed_document(root) {\n",
       "    var docs_json = {\"41174c56-d43b-43fa-a294-e1492329f76e\":{\"defs\":[{\"extends\":null,\"module\":null,\"name\":\"ReactiveHTML1\",\"overrides\":[],\"properties\":[]},{\"extends\":null,\"module\":null,\"name\":\"FlexBox1\",\"overrides\":[],\"properties\":[{\"default\":\"flex-start\",\"kind\":null,\"name\":\"align_content\"},{\"default\":\"flex-start\",\"kind\":null,\"name\":\"align_items\"},{\"default\":\"row\",\"kind\":null,\"name\":\"flex_direction\"},{\"default\":\"wrap\",\"kind\":null,\"name\":\"flex_wrap\"},{\"default\":\"flex-start\",\"kind\":null,\"name\":\"justify_content\"}]},{\"extends\":null,\"module\":null,\"name\":\"GridStack1\",\"overrides\":[],\"properties\":[{\"default\":\"warn\",\"kind\":null,\"name\":\"mode\"},{\"default\":null,\"kind\":null,\"name\":\"ncols\"},{\"default\":null,\"kind\":null,\"name\":\"nrows\"},{\"default\":true,\"kind\":null,\"name\":\"allow_resize\"},{\"default\":true,\"kind\":null,\"name\":\"allow_drag\"},{\"default\":[],\"kind\":null,\"name\":\"state\"}]},{\"extends\":null,\"module\":null,\"name\":\"click1\",\"overrides\":[],\"properties\":[{\"default\":\"\",\"kind\":null,\"name\":\"terminal_output\"},{\"default\":\"\",\"kind\":null,\"name\":\"debug_name\"},{\"default\":0,\"kind\":null,\"name\":\"clears\"}]},{\"extends\":null,\"module\":null,\"name\":\"NotificationAreaBase1\",\"overrides\":[],\"properties\":[{\"default\":\"bottom-right\",\"kind\":null,\"name\":\"position\"},{\"default\":0,\"kind\":null,\"name\":\"_clear\"}]},{\"extends\":null,\"module\":null,\"name\":\"NotificationArea1\",\"overrides\":[],\"properties\":[{\"default\":[],\"kind\":null,\"name\":\"notifications\"},{\"default\":\"bottom-right\",\"kind\":null,\"name\":\"position\"},{\"default\":0,\"kind\":null,\"name\":\"_clear\"},{\"default\":[{\"background\":\"#ffc107\",\"icon\":{\"className\":\"fas fa-exclamation-triangle\",\"color\":\"white\",\"tagName\":\"i\"},\"type\":\"warning\"},{\"background\":\"#007bff\",\"icon\":{\"className\":\"fas fa-info-circle\",\"color\":\"white\",\"tagName\":\"i\"},\"type\":\"info\"}],\"kind\":null,\"name\":\"types\"}]},{\"extends\":null,\"module\":null,\"name\":\"Notification\",\"overrides\":[],\"properties\":[{\"default\":null,\"kind\":null,\"name\":\"background\"},{\"default\":3000,\"kind\":null,\"name\":\"duration\"},{\"default\":null,\"kind\":null,\"name\":\"icon\"},{\"default\":\"\",\"kind\":null,\"name\":\"message\"},{\"default\":null,\"kind\":null,\"name\":\"notification_type\"},{\"default\":false,\"kind\":null,\"name\":\"_destroyed\"}]},{\"extends\":null,\"module\":null,\"name\":\"TemplateActions1\",\"overrides\":[],\"properties\":[{\"default\":0,\"kind\":null,\"name\":\"open_modal\"},{\"default\":0,\"kind\":null,\"name\":\"close_modal\"}]},{\"extends\":null,\"module\":null,\"name\":\"MaterialTemplateActions1\",\"overrides\":[],\"properties\":[{\"default\":0,\"kind\":null,\"name\":\"open_modal\"},{\"default\":0,\"kind\":null,\"name\":\"close_modal\"}]}],\"roots\":{\"references\":[{\"attributes\":{\"client_comm_id\":\"9051096f00584204b60f41e2941e53fd\",\"comm_id\":\"ba1f7864b1c943768bbf175cd81d326b\",\"plot_id\":\"1002\"},\"id\":\"1003\",\"type\":\"panel.models.comm_manager.CommManager\"},{\"attributes\":{\"high\":1000,\"low\":0,\"margin\":[10,5,5,10],\"min_width\":100,\"placeholder\":\"0\",\"step\":0.1,\"title\":\"Current\",\"value\":5.0,\"value_throttled\":5.0,\"width\":100},\"id\":\"1002\",\"type\":\"Spinner\"},{\"attributes\":{\"reload\":false},\"id\":\"1004\",\"type\":\"panel.models.location.Location\"}],\"root_ids\":[\"1002\",\"1003\",\"1004\"]},\"title\":\"Bokeh Application\",\"version\":\"2.4.3\"}};\n",
       "    var render_items = [{\"docid\":\"41174c56-d43b-43fa-a294-e1492329f76e\",\"root_ids\":[\"1002\"],\"roots\":{\"1002\":\"759c7458-70fb-4302-8aaf-ac9015365820\"}}];\n",
       "    root.Bokeh.embed.embed_items_notebook(docs_json, render_items);\n",
       "    for (const render_item of render_items) {\n",
       "      for (const root_id of render_item.root_ids) {\n",
       "\tconst id_el = document.getElementById(root_id)\n",
       "\tif (id_el.children.length && (id_el.children[0].className === 'bk-root')) {\n",
       "\t  const root_el = id_el.children[0]\n",
       "\t  root_el.id = root_el.id + '-rendered'\n",
       "\t}\n",
       "      }\n",
       "    }\n",
       "  }\n",
       "  if (root.Bokeh !== undefined && root.Bokeh.Panel !== undefined) {\n",
       "    embed_document(root);\n",
       "  } else {\n",
       "    var attempts = 0;\n",
       "    var timer = setInterval(function(root) {\n",
       "      if (root.Bokeh !== undefined && root.Bokeh.Panel !== undefined) {\n",
       "        clearInterval(timer);\n",
       "        embed_document(root);\n",
       "      } else if (document.readyState == \"complete\") {\n",
       "        attempts++;\n",
       "        if (attempts > 200) {\n",
       "          clearInterval(timer);\n",
       "          console.log(\"Bokeh: ERROR: Unable to run BokehJS code because BokehJS library is missing\");\n",
       "        }\n",
       "      }\n",
       "    }, 25, root)\n",
       "  }\n",
       "})(window);</script>"
      ],
      "text/plain": [
       "FloatInput(end=1000, margin=(10, 5, 5, 10), name='Current', start=0, value=5.0, width=100)"
      ]
     },
     "execution_count": 3,
     "metadata": {
      "application/vnd.holoviews_exec.v0+json": {
       "id": "1002"
      }
     },
     "output_type": "execute_result"
    }
   ],
   "source": [
    "current = pn.widgets.FloatInput(name='Current', value=5., step=1e-1, start=0, end=1000, width=100, margin=(10, 5, 5, 10))\n",
    "current"
   ]
  },
  {
   "cell_type": "code",
   "execution_count": 4,
   "id": "4cbd3ec9-905b-4dae-b59f-9278fdca9c28",
   "metadata": {},
   "outputs": [
    {
     "data": {},
     "metadata": {},
     "output_type": "display_data"
    },
    {
     "data": {
      "application/vnd.holoviews_exec.v0+json": "",
      "text/html": [
       "<div id='1005'>\n",
       "  <div class=\"bk-root\" id=\"7bab60a9-292a-4206-a0dc-884922bb9c0c\" data-root-id=\"1005\"></div>\n",
       "</div>\n",
       "<script type=\"application/javascript\">(function(root) {\n",
       "  function embed_document(root) {\n",
       "    var docs_json = {\"6d5b90c9-24bf-45c6-bd90-ebc20b898d1b\":{\"defs\":[{\"extends\":null,\"module\":null,\"name\":\"ReactiveHTML1\",\"overrides\":[],\"properties\":[]},{\"extends\":null,\"module\":null,\"name\":\"FlexBox1\",\"overrides\":[],\"properties\":[{\"default\":\"flex-start\",\"kind\":null,\"name\":\"align_content\"},{\"default\":\"flex-start\",\"kind\":null,\"name\":\"align_items\"},{\"default\":\"row\",\"kind\":null,\"name\":\"flex_direction\"},{\"default\":\"wrap\",\"kind\":null,\"name\":\"flex_wrap\"},{\"default\":\"flex-start\",\"kind\":null,\"name\":\"justify_content\"}]},{\"extends\":null,\"module\":null,\"name\":\"GridStack1\",\"overrides\":[],\"properties\":[{\"default\":\"warn\",\"kind\":null,\"name\":\"mode\"},{\"default\":null,\"kind\":null,\"name\":\"ncols\"},{\"default\":null,\"kind\":null,\"name\":\"nrows\"},{\"default\":true,\"kind\":null,\"name\":\"allow_resize\"},{\"default\":true,\"kind\":null,\"name\":\"allow_drag\"},{\"default\":[],\"kind\":null,\"name\":\"state\"}]},{\"extends\":null,\"module\":null,\"name\":\"click1\",\"overrides\":[],\"properties\":[{\"default\":\"\",\"kind\":null,\"name\":\"terminal_output\"},{\"default\":\"\",\"kind\":null,\"name\":\"debug_name\"},{\"default\":0,\"kind\":null,\"name\":\"clears\"}]},{\"extends\":null,\"module\":null,\"name\":\"NotificationAreaBase1\",\"overrides\":[],\"properties\":[{\"default\":\"bottom-right\",\"kind\":null,\"name\":\"position\"},{\"default\":0,\"kind\":null,\"name\":\"_clear\"}]},{\"extends\":null,\"module\":null,\"name\":\"NotificationArea1\",\"overrides\":[],\"properties\":[{\"default\":[],\"kind\":null,\"name\":\"notifications\"},{\"default\":\"bottom-right\",\"kind\":null,\"name\":\"position\"},{\"default\":0,\"kind\":null,\"name\":\"_clear\"},{\"default\":[{\"background\":\"#ffc107\",\"icon\":{\"className\":\"fas fa-exclamation-triangle\",\"color\":\"white\",\"tagName\":\"i\"},\"type\":\"warning\"},{\"background\":\"#007bff\",\"icon\":{\"className\":\"fas fa-info-circle\",\"color\":\"white\",\"tagName\":\"i\"},\"type\":\"info\"}],\"kind\":null,\"name\":\"types\"}]},{\"extends\":null,\"module\":null,\"name\":\"Notification\",\"overrides\":[],\"properties\":[{\"default\":null,\"kind\":null,\"name\":\"background\"},{\"default\":3000,\"kind\":null,\"name\":\"duration\"},{\"default\":null,\"kind\":null,\"name\":\"icon\"},{\"default\":\"\",\"kind\":null,\"name\":\"message\"},{\"default\":null,\"kind\":null,\"name\":\"notification_type\"},{\"default\":false,\"kind\":null,\"name\":\"_destroyed\"}]},{\"extends\":null,\"module\":null,\"name\":\"TemplateActions1\",\"overrides\":[],\"properties\":[{\"default\":0,\"kind\":null,\"name\":\"open_modal\"},{\"default\":0,\"kind\":null,\"name\":\"close_modal\"}]},{\"extends\":null,\"module\":null,\"name\":\"MaterialTemplateActions1\",\"overrides\":[],\"properties\":[{\"default\":0,\"kind\":null,\"name\":\"open_modal\"},{\"default\":0,\"kind\":null,\"name\":\"close_modal\"}]}],\"roots\":{\"references\":[{\"attributes\":{\"client_comm_id\":\"ee5802462ce94c3ca68bc5f0ab0c8cab\",\"comm_id\":\"880a0fac62ca44e29d4d50b73a106126\",\"plot_id\":\"1005\"},\"id\":\"1006\",\"type\":\"panel.models.comm_manager.CommManager\"},{\"attributes\":{\"high\":1000,\"low\":0,\"margin\":[10,5,5,10],\"min_width\":100,\"placeholder\":\"0\",\"step\":0.1,\"title\":\"Voltage\",\"value\":220.0,\"value_throttled\":220.0,\"width\":100},\"id\":\"1005\",\"type\":\"Spinner\"}],\"root_ids\":[\"1005\",\"1006\"]},\"title\":\"Bokeh Application\",\"version\":\"2.4.3\"}};\n",
       "    var render_items = [{\"docid\":\"6d5b90c9-24bf-45c6-bd90-ebc20b898d1b\",\"root_ids\":[\"1005\"],\"roots\":{\"1005\":\"7bab60a9-292a-4206-a0dc-884922bb9c0c\"}}];\n",
       "    root.Bokeh.embed.embed_items_notebook(docs_json, render_items);\n",
       "    for (const render_item of render_items) {\n",
       "      for (const root_id of render_item.root_ids) {\n",
       "\tconst id_el = document.getElementById(root_id)\n",
       "\tif (id_el.children.length && (id_el.children[0].className === 'bk-root')) {\n",
       "\t  const root_el = id_el.children[0]\n",
       "\t  root_el.id = root_el.id + '-rendered'\n",
       "\t}\n",
       "      }\n",
       "    }\n",
       "  }\n",
       "  if (root.Bokeh !== undefined && root.Bokeh.Panel !== undefined) {\n",
       "    embed_document(root);\n",
       "  } else {\n",
       "    var attempts = 0;\n",
       "    var timer = setInterval(function(root) {\n",
       "      if (root.Bokeh !== undefined && root.Bokeh.Panel !== undefined) {\n",
       "        clearInterval(timer);\n",
       "        embed_document(root);\n",
       "      } else if (document.readyState == \"complete\") {\n",
       "        attempts++;\n",
       "        if (attempts > 200) {\n",
       "          clearInterval(timer);\n",
       "          console.log(\"Bokeh: ERROR: Unable to run BokehJS code because BokehJS library is missing\");\n",
       "        }\n",
       "      }\n",
       "    }, 25, root)\n",
       "  }\n",
       "})(window);</script>"
      ],
      "text/plain": [
       "FloatInput(end=1000, margin=(10, 5, 5, 10), name='Voltage', start=0, value=220.0, width=100)"
      ]
     },
     "execution_count": 4,
     "metadata": {
      "application/vnd.holoviews_exec.v0+json": {
       "id": "1005"
      }
     },
     "output_type": "execute_result"
    }
   ],
   "source": [
    "voltage = pn.widgets.FloatInput(name='Voltage', value=220., step=1e-1, start=0, end=1000, width=100, margin=(10, 5, 5, 10))\n",
    "voltage"
   ]
  },
  {
   "cell_type": "code",
   "execution_count": 5,
   "id": "f1a16a4c-e1d4-4fc6-9251-a7bbd79d4d41",
   "metadata": {},
   "outputs": [],
   "source": [
    "def resistance(voltage, current):\n",
    "    return \"\"\"\n",
    "              Current is {} Amperes \\n\n",
    "              Voltage value is Volts {} \\n\n",
    "              Resistance is {:.3f} Ohms\n",
    "            \"\"\".format(current, voltage, voltage/current)"
   ]
  },
  {
   "cell_type": "markdown",
   "id": "07039f58-eb46-4a14-9f45-64902acb43ac",
   "metadata": {},
   "source": [
    "# Checking binding of two functions "
   ]
  },
  {
   "cell_type": "code",
   "execution_count": 6,
   "id": "a6331009-1e71-471b-9693-4b0e0d5a3f51",
   "metadata": {},
   "outputs": [
    {
     "data": {
      "text/plain": [
       "'\\n              Current is 5.0 Amperes \\n\\n              Voltage value is Volts 220.0 \\n\\n              Resistance is 44.000 Ohms\\n            '"
      ]
     },
     "execution_count": 6,
     "metadata": {},
     "output_type": "execute_result"
    }
   ],
   "source": [
    "bind2_fn = pn.bind(resistance, voltage=voltage, current=current)\n",
    "bind2_fn()"
   ]
  },
  {
   "cell_type": "markdown",
   "id": "5da76725-7f14-42dd-a6ce-eb41ec2f14a0",
   "metadata": {},
   "source": [
    "# Adding images"
   ]
  },
  {
   "cell_type": "code",
   "execution_count": 7,
   "id": "3dbf43c9-7fe5-4dcb-9576-b80ee2635430",
   "metadata": {},
   "outputs": [
    {
     "data": {},
     "metadata": {},
     "output_type": "display_data"
    },
    {
     "data": {
      "application/vnd.holoviews_exec.v0+json": "",
      "text/html": [
       "<div id='1007'>\n",
       "  <div class=\"bk-root\" id=\"f748b61b-d4be-4643-bf1f-67a87f7d8472\" data-root-id=\"1007\"></div>\n",
       "</div>\n",
       "<script type=\"application/javascript\">(function(root) {\n",
       "  function embed_document(root) {\n",
       "    var docs_json = {\"a9129ad6-d26e-466e-8343-1ea39cdde697\":{\"defs\":[{\"extends\":null,\"module\":null,\"name\":\"ReactiveHTML1\",\"overrides\":[],\"properties\":[]},{\"extends\":null,\"module\":null,\"name\":\"FlexBox1\",\"overrides\":[],\"properties\":[{\"default\":\"flex-start\",\"kind\":null,\"name\":\"align_content\"},{\"default\":\"flex-start\",\"kind\":null,\"name\":\"align_items\"},{\"default\":\"row\",\"kind\":null,\"name\":\"flex_direction\"},{\"default\":\"wrap\",\"kind\":null,\"name\":\"flex_wrap\"},{\"default\":\"flex-start\",\"kind\":null,\"name\":\"justify_content\"}]},{\"extends\":null,\"module\":null,\"name\":\"GridStack1\",\"overrides\":[],\"properties\":[{\"default\":\"warn\",\"kind\":null,\"name\":\"mode\"},{\"default\":null,\"kind\":null,\"name\":\"ncols\"},{\"default\":null,\"kind\":null,\"name\":\"nrows\"},{\"default\":true,\"kind\":null,\"name\":\"allow_resize\"},{\"default\":true,\"kind\":null,\"name\":\"allow_drag\"},{\"default\":[],\"kind\":null,\"name\":\"state\"}]},{\"extends\":null,\"module\":null,\"name\":\"click1\",\"overrides\":[],\"properties\":[{\"default\":\"\",\"kind\":null,\"name\":\"terminal_output\"},{\"default\":\"\",\"kind\":null,\"name\":\"debug_name\"},{\"default\":0,\"kind\":null,\"name\":\"clears\"}]},{\"extends\":null,\"module\":null,\"name\":\"NotificationAreaBase1\",\"overrides\":[],\"properties\":[{\"default\":\"bottom-right\",\"kind\":null,\"name\":\"position\"},{\"default\":0,\"kind\":null,\"name\":\"_clear\"}]},{\"extends\":null,\"module\":null,\"name\":\"NotificationArea1\",\"overrides\":[],\"properties\":[{\"default\":[],\"kind\":null,\"name\":\"notifications\"},{\"default\":\"bottom-right\",\"kind\":null,\"name\":\"position\"},{\"default\":0,\"kind\":null,\"name\":\"_clear\"},{\"default\":[{\"background\":\"#ffc107\",\"icon\":{\"className\":\"fas fa-exclamation-triangle\",\"color\":\"white\",\"tagName\":\"i\"},\"type\":\"warning\"},{\"background\":\"#007bff\",\"icon\":{\"className\":\"fas fa-info-circle\",\"color\":\"white\",\"tagName\":\"i\"},\"type\":\"info\"}],\"kind\":null,\"name\":\"types\"}]},{\"extends\":null,\"module\":null,\"name\":\"Notification\",\"overrides\":[],\"properties\":[{\"default\":null,\"kind\":null,\"name\":\"background\"},{\"default\":3000,\"kind\":null,\"name\":\"duration\"},{\"default\":null,\"kind\":null,\"name\":\"icon\"},{\"default\":\"\",\"kind\":null,\"name\":\"message\"},{\"default\":null,\"kind\":null,\"name\":\"notification_type\"},{\"default\":false,\"kind\":null,\"name\":\"_destroyed\"}]},{\"extends\":null,\"module\":null,\"name\":\"TemplateActions1\",\"overrides\":[],\"properties\":[{\"default\":0,\"kind\":null,\"name\":\"open_modal\"},{\"default\":0,\"kind\":null,\"name\":\"close_modal\"}]},{\"extends\":null,\"module\":null,\"name\":\"MaterialTemplateActions1\",\"overrides\":[],\"properties\":[{\"default\":0,\"kind\":null,\"name\":\"open_modal\"},{\"default\":0,\"kind\":null,\"name\":\"close_modal\"}]}],\"roots\":{\"references\":[{\"attributes\":{\"height\":51,\"margin\":[5,5,5,5],\"name\":\"PNG00108\",\"text\":\"&lt;img src=&quot;data:image/png;base64,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&quot; width=&quot;100px&quot; height=&quot;51px&quot; alt=&quot;&quot;&gt;&lt;/img&gt;\",\"width\":100},\"id\":\"1007\",\"type\":\"panel.models.markup.HTML\"},{\"attributes\":{\"client_comm_id\":\"c744d977130745b7a15726c0a00a2a83\",\"comm_id\":\"9f4cf03f3081432a896edc22cd8564b3\",\"plot_id\":\"1007\"},\"id\":\"1008\",\"type\":\"panel.models.comm_manager.CommManager\"}],\"root_ids\":[\"1007\",\"1008\"]},\"title\":\"Bokeh Application\",\"version\":\"2.4.3\"}};\n",
       "    var render_items = [{\"docid\":\"a9129ad6-d26e-466e-8343-1ea39cdde697\",\"root_ids\":[\"1007\"],\"roots\":{\"1007\":\"f748b61b-d4be-4643-bf1f-67a87f7d8472\"}}];\n",
       "    root.Bokeh.embed.embed_items_notebook(docs_json, render_items);\n",
       "    for (const render_item of render_items) {\n",
       "      for (const root_id of render_item.root_ids) {\n",
       "\tconst id_el = document.getElementById(root_id)\n",
       "\tif (id_el.children.length && (id_el.children[0].className === 'bk-root')) {\n",
       "\t  const root_el = id_el.children[0]\n",
       "\t  root_el.id = root_el.id + '-rendered'\n",
       "\t}\n",
       "      }\n",
       "    }\n",
       "  }\n",
       "  if (root.Bokeh !== undefined && root.Bokeh.Panel !== undefined) {\n",
       "    embed_document(root);\n",
       "  } else {\n",
       "    var attempts = 0;\n",
       "    var timer = setInterval(function(root) {\n",
       "      if (root.Bokeh !== undefined && root.Bokeh.Panel !== undefined) {\n",
       "        clearInterval(timer);\n",
       "        embed_document(root);\n",
       "      } else if (document.readyState == \"complete\") {\n",
       "        attempts++;\n",
       "        if (attempts > 200) {\n",
       "          clearInterval(timer);\n",
       "          console.log(\"Bokeh: ERROR: Unable to run BokehJS code because BokehJS library is missing\");\n",
       "        }\n",
       "      }\n",
       "    }, 25, root)\n",
       "  }\n",
       "})(window);</script>"
      ],
      "text/plain": [
       "PNG(str, width=100)"
      ]
     },
     "execution_count": 7,
     "metadata": {
      "application/vnd.holoviews_exec.v0+json": {
       "id": "1007"
      }
     },
     "output_type": "execute_result"
    }
   ],
   "source": [
    "voltage_pane = pn.pane.PNG('./images/VoltageSource.png', width=100)\n",
    "voltage_pane"
   ]
  },
  {
   "cell_type": "code",
   "execution_count": 8,
   "id": "6e7275c3-b771-43dd-8341-e69d7446dc0a",
   "metadata": {},
   "outputs": [
    {
     "data": {},
     "metadata": {},
     "output_type": "display_data"
    },
    {
     "data": {
      "application/vnd.holoviews_exec.v0+json": "",
      "text/html": [
       "<div id='1009'>\n",
       "  <div class=\"bk-root\" id=\"d18d4663-4e99-456b-86ed-faf13dfba961\" data-root-id=\"1009\"></div>\n",
       "</div>\n",
       "<script type=\"application/javascript\">(function(root) {\n",
       "  function embed_document(root) {\n",
       "    var docs_json = {\"c96fd08e-30f8-4daf-81bd-471812ea8886\":{\"defs\":[{\"extends\":null,\"module\":null,\"name\":\"ReactiveHTML1\",\"overrides\":[],\"properties\":[]},{\"extends\":null,\"module\":null,\"name\":\"FlexBox1\",\"overrides\":[],\"properties\":[{\"default\":\"flex-start\",\"kind\":null,\"name\":\"align_content\"},{\"default\":\"flex-start\",\"kind\":null,\"name\":\"align_items\"},{\"default\":\"row\",\"kind\":null,\"name\":\"flex_direction\"},{\"default\":\"wrap\",\"kind\":null,\"name\":\"flex_wrap\"},{\"default\":\"flex-start\",\"kind\":null,\"name\":\"justify_content\"}]},{\"extends\":null,\"module\":null,\"name\":\"GridStack1\",\"overrides\":[],\"properties\":[{\"default\":\"warn\",\"kind\":null,\"name\":\"mode\"},{\"default\":null,\"kind\":null,\"name\":\"ncols\"},{\"default\":null,\"kind\":null,\"name\":\"nrows\"},{\"default\":true,\"kind\":null,\"name\":\"allow_resize\"},{\"default\":true,\"kind\":null,\"name\":\"allow_drag\"},{\"default\":[],\"kind\":null,\"name\":\"state\"}]},{\"extends\":null,\"module\":null,\"name\":\"click1\",\"overrides\":[],\"properties\":[{\"default\":\"\",\"kind\":null,\"name\":\"terminal_output\"},{\"default\":\"\",\"kind\":null,\"name\":\"debug_name\"},{\"default\":0,\"kind\":null,\"name\":\"clears\"}]},{\"extends\":null,\"module\":null,\"name\":\"NotificationAreaBase1\",\"overrides\":[],\"properties\":[{\"default\":\"bottom-right\",\"kind\":null,\"name\":\"position\"},{\"default\":0,\"kind\":null,\"name\":\"_clear\"}]},{\"extends\":null,\"module\":null,\"name\":\"NotificationArea1\",\"overrides\":[],\"properties\":[{\"default\":[],\"kind\":null,\"name\":\"notifications\"},{\"default\":\"bottom-right\",\"kind\":null,\"name\":\"position\"},{\"default\":0,\"kind\":null,\"name\":\"_clear\"},{\"default\":[{\"background\":\"#ffc107\",\"icon\":{\"className\":\"fas fa-exclamation-triangle\",\"color\":\"white\",\"tagName\":\"i\"},\"type\":\"warning\"},{\"background\":\"#007bff\",\"icon\":{\"className\":\"fas fa-info-circle\",\"color\":\"white\",\"tagName\":\"i\"},\"type\":\"info\"}],\"kind\":null,\"name\":\"types\"}]},{\"extends\":null,\"module\":null,\"name\":\"Notification\",\"overrides\":[],\"properties\":[{\"default\":null,\"kind\":null,\"name\":\"background\"},{\"default\":3000,\"kind\":null,\"name\":\"duration\"},{\"default\":null,\"kind\":null,\"name\":\"icon\"},{\"default\":\"\",\"kind\":null,\"name\":\"message\"},{\"default\":null,\"kind\":null,\"name\":\"notification_type\"},{\"default\":false,\"kind\":null,\"name\":\"_destroyed\"}]},{\"extends\":null,\"module\":null,\"name\":\"TemplateActions1\",\"overrides\":[],\"properties\":[{\"default\":0,\"kind\":null,\"name\":\"open_modal\"},{\"default\":0,\"kind\":null,\"name\":\"close_modal\"}]},{\"extends\":null,\"module\":null,\"name\":\"MaterialTemplateActions1\",\"overrides\":[],\"properties\":[{\"default\":0,\"kind\":null,\"name\":\"open_modal\"},{\"default\":0,\"kind\":null,\"name\":\"close_modal\"}]}],\"roots\":{\"references\":[{\"attributes\":{\"height\":104,\"margin\":[5,5,5,5],\"name\":\"PNG00112\",\"text\":\"&lt;img src=&quot;data:image/png;base64,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&quot; width=&quot;100px&quot; height=&quot;104px&quot; alt=&quot;&quot;&gt;&lt;/img&gt;\",\"width\":100},\"id\":\"1009\",\"type\":\"panel.models.markup.HTML\"},{\"attributes\":{\"client_comm_id\":\"5e086cdbd47245428be83a756640f4c8\",\"comm_id\":\"d963f9da1fc046f9aae5d619126b8a50\",\"plot_id\":\"1009\"},\"id\":\"1010\",\"type\":\"panel.models.comm_manager.CommManager\"}],\"root_ids\":[\"1009\",\"1010\"]},\"title\":\"Bokeh Application\",\"version\":\"2.4.3\"}};\n",
       "    var render_items = [{\"docid\":\"c96fd08e-30f8-4daf-81bd-471812ea8886\",\"root_ids\":[\"1009\"],\"roots\":{\"1009\":\"d18d4663-4e99-456b-86ed-faf13dfba961\"}}];\n",
       "    root.Bokeh.embed.embed_items_notebook(docs_json, render_items);\n",
       "    for (const render_item of render_items) {\n",
       "      for (const root_id of render_item.root_ids) {\n",
       "\tconst id_el = document.getElementById(root_id)\n",
       "\tif (id_el.children.length && (id_el.children[0].className === 'bk-root')) {\n",
       "\t  const root_el = id_el.children[0]\n",
       "\t  root_el.id = root_el.id + '-rendered'\n",
       "\t}\n",
       "      }\n",
       "    }\n",
       "  }\n",
       "  if (root.Bokeh !== undefined && root.Bokeh.Panel !== undefined) {\n",
       "    embed_document(root);\n",
       "  } else {\n",
       "    var attempts = 0;\n",
       "    var timer = setInterval(function(root) {\n",
       "      if (root.Bokeh !== undefined && root.Bokeh.Panel !== undefined) {\n",
       "        clearInterval(timer);\n",
       "        embed_document(root);\n",
       "      } else if (document.readyState == \"complete\") {\n",
       "        attempts++;\n",
       "        if (attempts > 200) {\n",
       "          clearInterval(timer);\n",
       "          console.log(\"Bokeh: ERROR: Unable to run BokehJS code because BokehJS library is missing\");\n",
       "        }\n",
       "      }\n",
       "    }, 25, root)\n",
       "  }\n",
       "})(window);</script>"
      ],
      "text/plain": [
       "PNG(str, width=100)"
      ]
     },
     "execution_count": 8,
     "metadata": {
      "application/vnd.holoviews_exec.v0+json": {
       "id": "1009"
      }
     },
     "output_type": "execute_result"
    }
   ],
   "source": [
    "current_pane = pn.pane.PNG('./images/Current.png', width=100)\n",
    "current_pane"
   ]
  },
  {
   "cell_type": "code",
   "execution_count": 9,
   "id": "54751c09-3507-4058-8801-6dc7d312b4a8",
   "metadata": {},
   "outputs": [
    {
     "data": {},
     "metadata": {},
     "output_type": "display_data"
    },
    {
     "data": {
      "application/vnd.holoviews_exec.v0+json": "",
      "text/html": [
       "<div id='1011'>\n",
       "  <div class=\"bk-root\" id=\"8bc9b6c7-bc7f-4aaa-a26d-b6e624381993\" data-root-id=\"1011\"></div>\n",
       "</div>\n",
       "<script type=\"application/javascript\">(function(root) {\n",
       "  function embed_document(root) {\n",
       "    var docs_json = {\"68b13783-fbbd-4f34-8e97-6857479c04f6\":{\"defs\":[{\"extends\":null,\"module\":null,\"name\":\"ReactiveHTML1\",\"overrides\":[],\"properties\":[]},{\"extends\":null,\"module\":null,\"name\":\"FlexBox1\",\"overrides\":[],\"properties\":[{\"default\":\"flex-start\",\"kind\":null,\"name\":\"align_content\"},{\"default\":\"flex-start\",\"kind\":null,\"name\":\"align_items\"},{\"default\":\"row\",\"kind\":null,\"name\":\"flex_direction\"},{\"default\":\"wrap\",\"kind\":null,\"name\":\"flex_wrap\"},{\"default\":\"flex-start\",\"kind\":null,\"name\":\"justify_content\"}]},{\"extends\":null,\"module\":null,\"name\":\"GridStack1\",\"overrides\":[],\"properties\":[{\"default\":\"warn\",\"kind\":null,\"name\":\"mode\"},{\"default\":null,\"kind\":null,\"name\":\"ncols\"},{\"default\":null,\"kind\":null,\"name\":\"nrows\"},{\"default\":true,\"kind\":null,\"name\":\"allow_resize\"},{\"default\":true,\"kind\":null,\"name\":\"allow_drag\"},{\"default\":[],\"kind\":null,\"name\":\"state\"}]},{\"extends\":null,\"module\":null,\"name\":\"click1\",\"overrides\":[],\"properties\":[{\"default\":\"\",\"kind\":null,\"name\":\"terminal_output\"},{\"default\":\"\",\"kind\":null,\"name\":\"debug_name\"},{\"default\":0,\"kind\":null,\"name\":\"clears\"}]},{\"extends\":null,\"module\":null,\"name\":\"NotificationAreaBase1\",\"overrides\":[],\"properties\":[{\"default\":\"bottom-right\",\"kind\":null,\"name\":\"position\"},{\"default\":0,\"kind\":null,\"name\":\"_clear\"}]},{\"extends\":null,\"module\":null,\"name\":\"NotificationArea1\",\"overrides\":[],\"properties\":[{\"default\":[],\"kind\":null,\"name\":\"notifications\"},{\"default\":\"bottom-right\",\"kind\":null,\"name\":\"position\"},{\"default\":0,\"kind\":null,\"name\":\"_clear\"},{\"default\":[{\"background\":\"#ffc107\",\"icon\":{\"className\":\"fas fa-exclamation-triangle\",\"color\":\"white\",\"tagName\":\"i\"},\"type\":\"warning\"},{\"background\":\"#007bff\",\"icon\":{\"className\":\"fas fa-info-circle\",\"color\":\"white\",\"tagName\":\"i\"},\"type\":\"info\"}],\"kind\":null,\"name\":\"types\"}]},{\"extends\":null,\"module\":null,\"name\":\"Notification\",\"overrides\":[],\"properties\":[{\"default\":null,\"kind\":null,\"name\":\"background\"},{\"default\":3000,\"kind\":null,\"name\":\"duration\"},{\"default\":null,\"kind\":null,\"name\":\"icon\"},{\"default\":\"\",\"kind\":null,\"name\":\"message\"},{\"default\":null,\"kind\":null,\"name\":\"notification_type\"},{\"default\":false,\"kind\":null,\"name\":\"_destroyed\"}]},{\"extends\":null,\"module\":null,\"name\":\"TemplateActions1\",\"overrides\":[],\"properties\":[{\"default\":0,\"kind\":null,\"name\":\"open_modal\"},{\"default\":0,\"kind\":null,\"name\":\"close_modal\"}]},{\"extends\":null,\"module\":null,\"name\":\"MaterialTemplateActions1\",\"overrides\":[],\"properties\":[{\"default\":0,\"kind\":null,\"name\":\"open_modal\"},{\"default\":0,\"kind\":null,\"name\":\"close_modal\"}]}],\"roots\":{\"references\":[{\"attributes\":{\"background\":\"#f0f0f0\",\"children\":[{\"id\":\"1012\"},{\"id\":\"1013\"}],\"margin\":[0,0,0,0],\"name\":\"Column00116\"},\"id\":\"1011\",\"type\":\"Column\"},{\"attributes\":{\"high\":1000,\"low\":0,\"margin\":[10,5,5,10],\"min_width\":100,\"placeholder\":\"0\",\"step\":0.1,\"title\":\"Voltage\",\"value\":220.0,\"value_throttled\":220.0,\"width\":100},\"id\":\"1013\",\"type\":\"Spinner\"},{\"attributes\":{\"height\":51,\"margin\":[5,5,5,5],\"name\":\"PNG00108\",\"text\":\"&lt;img src=&quot;data:image/png;base64,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&quot; width=&quot;100px&quot; height=&quot;51px&quot; alt=&quot;&quot;&gt;&lt;/img&gt;\",\"width\":100},\"id\":\"1012\",\"type\":\"panel.models.markup.HTML\"},{\"attributes\":{\"client_comm_id\":\"05cd70fbb6fe4eb78731d3d6725d5ac6\",\"comm_id\":\"29036213aa174f9590b1129e1de190b6\",\"plot_id\":\"1011\"},\"id\":\"1014\",\"type\":\"panel.models.comm_manager.CommManager\"}],\"root_ids\":[\"1011\",\"1014\"]},\"title\":\"Bokeh Application\",\"version\":\"2.4.3\"}};\n",
       "    var render_items = [{\"docid\":\"68b13783-fbbd-4f34-8e97-6857479c04f6\",\"root_ids\":[\"1011\"],\"roots\":{\"1011\":\"8bc9b6c7-bc7f-4aaa-a26d-b6e624381993\"}}];\n",
       "    root.Bokeh.embed.embed_items_notebook(docs_json, render_items);\n",
       "    for (const render_item of render_items) {\n",
       "      for (const root_id of render_item.root_ids) {\n",
       "\tconst id_el = document.getElementById(root_id)\n",
       "\tif (id_el.children.length && (id_el.children[0].className === 'bk-root')) {\n",
       "\t  const root_el = id_el.children[0]\n",
       "\t  root_el.id = root_el.id + '-rendered'\n",
       "\t}\n",
       "      }\n",
       "    }\n",
       "  }\n",
       "  if (root.Bokeh !== undefined && root.Bokeh.Panel !== undefined) {\n",
       "    embed_document(root);\n",
       "  } else {\n",
       "    var attempts = 0;\n",
       "    var timer = setInterval(function(root) {\n",
       "      if (root.Bokeh !== undefined && root.Bokeh.Panel !== undefined) {\n",
       "        clearInterval(timer);\n",
       "        embed_document(root);\n",
       "      } else if (document.readyState == \"complete\") {\n",
       "        attempts++;\n",
       "        if (attempts > 200) {\n",
       "          clearInterval(timer);\n",
       "          console.log(\"Bokeh: ERROR: Unable to run BokehJS code because BokehJS library is missing\");\n",
       "        }\n",
       "      }\n",
       "    }, 25, root)\n",
       "  }\n",
       "})(window);</script>"
      ],
      "text/plain": [
       "Column(background='#f0f0f0')\n",
       "    [0] PNG(str, width=100)\n",
       "    [1] FloatInput(end=1000, margin=(10, 5, 5, 10), name='Voltage', start=0, value=220.0, width=100)"
      ]
     },
     "execution_count": 9,
     "metadata": {
      "application/vnd.holoviews_exec.v0+json": {
       "id": "1011"
      }
     },
     "output_type": "execute_result"
    }
   ],
   "source": [
    "VoltPI = pn.Column(voltage_pane, voltage, background='#f0f0f0')\n",
    "VoltPI"
   ]
  },
  {
   "cell_type": "code",
   "execution_count": 10,
   "id": "9569a5b6-f0ea-4099-9c17-919937dbfa9e",
   "metadata": {},
   "outputs": [
    {
     "data": {},
     "metadata": {},
     "output_type": "display_data"
    },
    {
     "data": {
      "application/vnd.holoviews_exec.v0+json": "",
      "text/html": [
       "<div id='1015'>\n",
       "  <div class=\"bk-root\" id=\"f85a17c1-ff6b-4da2-85d7-d46d89a80e1b\" data-root-id=\"1015\"></div>\n",
       "</div>\n",
       "<script type=\"application/javascript\">(function(root) {\n",
       "  function embed_document(root) {\n",
       "    var docs_json = {\"03e51105-4eeb-4bd4-bc1c-4c1756572157\":{\"defs\":[{\"extends\":null,\"module\":null,\"name\":\"ReactiveHTML1\",\"overrides\":[],\"properties\":[]},{\"extends\":null,\"module\":null,\"name\":\"FlexBox1\",\"overrides\":[],\"properties\":[{\"default\":\"flex-start\",\"kind\":null,\"name\":\"align_content\"},{\"default\":\"flex-start\",\"kind\":null,\"name\":\"align_items\"},{\"default\":\"row\",\"kind\":null,\"name\":\"flex_direction\"},{\"default\":\"wrap\",\"kind\":null,\"name\":\"flex_wrap\"},{\"default\":\"flex-start\",\"kind\":null,\"name\":\"justify_content\"}]},{\"extends\":null,\"module\":null,\"name\":\"GridStack1\",\"overrides\":[],\"properties\":[{\"default\":\"warn\",\"kind\":null,\"name\":\"mode\"},{\"default\":null,\"kind\":null,\"name\":\"ncols\"},{\"default\":null,\"kind\":null,\"name\":\"nrows\"},{\"default\":true,\"kind\":null,\"name\":\"allow_resize\"},{\"default\":true,\"kind\":null,\"name\":\"allow_drag\"},{\"default\":[],\"kind\":null,\"name\":\"state\"}]},{\"extends\":null,\"module\":null,\"name\":\"click1\",\"overrides\":[],\"properties\":[{\"default\":\"\",\"kind\":null,\"name\":\"terminal_output\"},{\"default\":\"\",\"kind\":null,\"name\":\"debug_name\"},{\"default\":0,\"kind\":null,\"name\":\"clears\"}]},{\"extends\":null,\"module\":null,\"name\":\"NotificationAreaBase1\",\"overrides\":[],\"properties\":[{\"default\":\"bottom-right\",\"kind\":null,\"name\":\"position\"},{\"default\":0,\"kind\":null,\"name\":\"_clear\"}]},{\"extends\":null,\"module\":null,\"name\":\"NotificationArea1\",\"overrides\":[],\"properties\":[{\"default\":[],\"kind\":null,\"name\":\"notifications\"},{\"default\":\"bottom-right\",\"kind\":null,\"name\":\"position\"},{\"default\":0,\"kind\":null,\"name\":\"_clear\"},{\"default\":[{\"background\":\"#ffc107\",\"icon\":{\"className\":\"fas fa-exclamation-triangle\",\"color\":\"white\",\"tagName\":\"i\"},\"type\":\"warning\"},{\"background\":\"#007bff\",\"icon\":{\"className\":\"fas fa-info-circle\",\"color\":\"white\",\"tagName\":\"i\"},\"type\":\"info\"}],\"kind\":null,\"name\":\"types\"}]},{\"extends\":null,\"module\":null,\"name\":\"Notification\",\"overrides\":[],\"properties\":[{\"default\":null,\"kind\":null,\"name\":\"background\"},{\"default\":3000,\"kind\":null,\"name\":\"duration\"},{\"default\":null,\"kind\":null,\"name\":\"icon\"},{\"default\":\"\",\"kind\":null,\"name\":\"message\"},{\"default\":null,\"kind\":null,\"name\":\"notification_type\"},{\"default\":false,\"kind\":null,\"name\":\"_destroyed\"}]},{\"extends\":null,\"module\":null,\"name\":\"TemplateActions1\",\"overrides\":[],\"properties\":[{\"default\":0,\"kind\":null,\"name\":\"open_modal\"},{\"default\":0,\"kind\":null,\"name\":\"close_modal\"}]},{\"extends\":null,\"module\":null,\"name\":\"MaterialTemplateActions1\",\"overrides\":[],\"properties\":[{\"default\":0,\"kind\":null,\"name\":\"open_modal\"},{\"default\":0,\"kind\":null,\"name\":\"close_modal\"}]}],\"roots\":{\"references\":[{\"attributes\":{\"client_comm_id\":\"e017d6b85c224e7f83eb521e08256f58\",\"comm_id\":\"b19f29c2e74e471eaa97edbd486aab9b\",\"plot_id\":\"1015\"},\"id\":\"1018\",\"type\":\"panel.models.comm_manager.CommManager\"},{\"attributes\":{\"height\":104,\"margin\":[5,5,5,5],\"name\":\"PNG00112\",\"text\":\"&lt;img src=&quot;data:image/png;base64,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&quot; width=&quot;100px&quot; height=&quot;104px&quot; alt=&quot;&quot;&gt;&lt;/img&gt;\",\"width\":100},\"id\":\"1016\",\"type\":\"panel.models.markup.HTML\"},{\"attributes\":{\"high\":1000,\"low\":0,\"margin\":[10,5,5,10],\"min_width\":100,\"placeholder\":\"0\",\"step\":0.1,\"title\":\"Current\",\"value\":5.0,\"value_throttled\":5.0,\"width\":100},\"id\":\"1017\",\"type\":\"Spinner\"},{\"attributes\":{\"background\":\"#f0f0f1\",\"children\":[{\"id\":\"1016\"},{\"id\":\"1017\"}],\"margin\":[0,0,0,0],\"name\":\"Column00119\"},\"id\":\"1015\",\"type\":\"Column\"}],\"root_ids\":[\"1015\",\"1018\"]},\"title\":\"Bokeh Application\",\"version\":\"2.4.3\"}};\n",
       "    var render_items = [{\"docid\":\"03e51105-4eeb-4bd4-bc1c-4c1756572157\",\"root_ids\":[\"1015\"],\"roots\":{\"1015\":\"f85a17c1-ff6b-4da2-85d7-d46d89a80e1b\"}}];\n",
       "    root.Bokeh.embed.embed_items_notebook(docs_json, render_items);\n",
       "    for (const render_item of render_items) {\n",
       "      for (const root_id of render_item.root_ids) {\n",
       "\tconst id_el = document.getElementById(root_id)\n",
       "\tif (id_el.children.length && (id_el.children[0].className === 'bk-root')) {\n",
       "\t  const root_el = id_el.children[0]\n",
       "\t  root_el.id = root_el.id + '-rendered'\n",
       "\t}\n",
       "      }\n",
       "    }\n",
       "  }\n",
       "  if (root.Bokeh !== undefined && root.Bokeh.Panel !== undefined) {\n",
       "    embed_document(root);\n",
       "  } else {\n",
       "    var attempts = 0;\n",
       "    var timer = setInterval(function(root) {\n",
       "      if (root.Bokeh !== undefined && root.Bokeh.Panel !== undefined) {\n",
       "        clearInterval(timer);\n",
       "        embed_document(root);\n",
       "      } else if (document.readyState == \"complete\") {\n",
       "        attempts++;\n",
       "        if (attempts > 200) {\n",
       "          clearInterval(timer);\n",
       "          console.log(\"Bokeh: ERROR: Unable to run BokehJS code because BokehJS library is missing\");\n",
       "        }\n",
       "      }\n",
       "    }, 25, root)\n",
       "  }\n",
       "})(window);</script>"
      ],
      "text/plain": [
       "Column(background='#f0f0f1')\n",
       "    [0] PNG(str, width=100)\n",
       "    [1] FloatInput(end=1000, margin=(10, 5, 5, 10), name='Current', start=0, value=5.0, width=100)"
      ]
     },
     "execution_count": 10,
     "metadata": {
      "application/vnd.holoviews_exec.v0+json": {
       "id": "1015"
      }
     },
     "output_type": "execute_result"
    }
   ],
   "source": [
    "CurrPI = pn.Column(current_pane, current, background='#f0f0f1')\n",
    "CurrPI"
   ]
  },
  {
   "cell_type": "code",
   "execution_count": 11,
   "id": "fd629608-3a86-4380-a10e-70da91961195",
   "metadata": {},
   "outputs": [
    {
     "data": {},
     "metadata": {},
     "output_type": "display_data"
    },
    {
     "data": {
      "application/vnd.holoviews_exec.v0+json": "",
      "text/html": [
       "<div id='1019'>\n",
       "  <div class=\"bk-root\" id=\"4499e439-fdba-41fa-8d3f-a64006849249\" data-root-id=\"1019\"></div>\n",
       "</div>\n",
       "<script type=\"application/javascript\">(function(root) {\n",
       "  function embed_document(root) {\n",
       "    var docs_json = {\"17757e2c-b69c-4852-b6e2-9e187280eb95\":{\"defs\":[{\"extends\":null,\"module\":null,\"name\":\"ReactiveHTML1\",\"overrides\":[],\"properties\":[]},{\"extends\":null,\"module\":null,\"name\":\"FlexBox1\",\"overrides\":[],\"properties\":[{\"default\":\"flex-start\",\"kind\":null,\"name\":\"align_content\"},{\"default\":\"flex-start\",\"kind\":null,\"name\":\"align_items\"},{\"default\":\"row\",\"kind\":null,\"name\":\"flex_direction\"},{\"default\":\"wrap\",\"kind\":null,\"name\":\"flex_wrap\"},{\"default\":\"flex-start\",\"kind\":null,\"name\":\"justify_content\"}]},{\"extends\":null,\"module\":null,\"name\":\"GridStack1\",\"overrides\":[],\"properties\":[{\"default\":\"warn\",\"kind\":null,\"name\":\"mode\"},{\"default\":null,\"kind\":null,\"name\":\"ncols\"},{\"default\":null,\"kind\":null,\"name\":\"nrows\"},{\"default\":true,\"kind\":null,\"name\":\"allow_resize\"},{\"default\":true,\"kind\":null,\"name\":\"allow_drag\"},{\"default\":[],\"kind\":null,\"name\":\"state\"}]},{\"extends\":null,\"module\":null,\"name\":\"click1\",\"overrides\":[],\"properties\":[{\"default\":\"\",\"kind\":null,\"name\":\"terminal_output\"},{\"default\":\"\",\"kind\":null,\"name\":\"debug_name\"},{\"default\":0,\"kind\":null,\"name\":\"clears\"}]},{\"extends\":null,\"module\":null,\"name\":\"NotificationAreaBase1\",\"overrides\":[],\"properties\":[{\"default\":\"bottom-right\",\"kind\":null,\"name\":\"position\"},{\"default\":0,\"kind\":null,\"name\":\"_clear\"}]},{\"extends\":null,\"module\":null,\"name\":\"NotificationArea1\",\"overrides\":[],\"properties\":[{\"default\":[],\"kind\":null,\"name\":\"notifications\"},{\"default\":\"bottom-right\",\"kind\":null,\"name\":\"position\"},{\"default\":0,\"kind\":null,\"name\":\"_clear\"},{\"default\":[{\"background\":\"#ffc107\",\"icon\":{\"className\":\"fas fa-exclamation-triangle\",\"color\":\"white\",\"tagName\":\"i\"},\"type\":\"warning\"},{\"background\":\"#007bff\",\"icon\":{\"className\":\"fas fa-info-circle\",\"color\":\"white\",\"tagName\":\"i\"},\"type\":\"info\"}],\"kind\":null,\"name\":\"types\"}]},{\"extends\":null,\"module\":null,\"name\":\"Notification\",\"overrides\":[],\"properties\":[{\"default\":null,\"kind\":null,\"name\":\"background\"},{\"default\":3000,\"kind\":null,\"name\":\"duration\"},{\"default\":null,\"kind\":null,\"name\":\"icon\"},{\"default\":\"\",\"kind\":null,\"name\":\"message\"},{\"default\":null,\"kind\":null,\"name\":\"notification_type\"},{\"default\":false,\"kind\":null,\"name\":\"_destroyed\"}]},{\"extends\":null,\"module\":null,\"name\":\"TemplateActions1\",\"overrides\":[],\"properties\":[{\"default\":0,\"kind\":null,\"name\":\"open_modal\"},{\"default\":0,\"kind\":null,\"name\":\"close_modal\"}]},{\"extends\":null,\"module\":null,\"name\":\"MaterialTemplateActions1\",\"overrides\":[],\"properties\":[{\"default\":0,\"kind\":null,\"name\":\"open_modal\"},{\"default\":0,\"kind\":null,\"name\":\"close_modal\"}]}],\"roots\":{\"references\":[{\"attributes\":{\"client_comm_id\":\"ca54d1534c714842a791ea19c031acc9\",\"comm_id\":\"6953e67bfe71482b960b810666588b9f\",\"plot_id\":\"1019\"},\"id\":\"1020\",\"type\":\"panel.models.comm_manager.CommManager\"},{\"attributes\":{\"height\":66,\"margin\":[5,5,5,5],\"name\":\"PNG00122\",\"text\":\"&lt;img src=&quot;data:image/png;base64,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&quot; width=&quot;50px&quot; height=&quot;66px&quot; alt=&quot;&quot;&gt;&lt;/img&gt;\",\"width\":50},\"id\":\"1019\",\"type\":\"panel.models.markup.HTML\"}],\"root_ids\":[\"1019\",\"1020\"]},\"title\":\"Bokeh Application\",\"version\":\"2.4.3\"}};\n",
       "    var render_items = [{\"docid\":\"17757e2c-b69c-4852-b6e2-9e187280eb95\",\"root_ids\":[\"1019\"],\"roots\":{\"1019\":\"4499e439-fdba-41fa-8d3f-a64006849249\"}}];\n",
       "    root.Bokeh.embed.embed_items_notebook(docs_json, render_items);\n",
       "    for (const render_item of render_items) {\n",
       "      for (const root_id of render_item.root_ids) {\n",
       "\tconst id_el = document.getElementById(root_id)\n",
       "\tif (id_el.children.length && (id_el.children[0].className === 'bk-root')) {\n",
       "\t  const root_el = id_el.children[0]\n",
       "\t  root_el.id = root_el.id + '-rendered'\n",
       "\t}\n",
       "      }\n",
       "    }\n",
       "  }\n",
       "  if (root.Bokeh !== undefined && root.Bokeh.Panel !== undefined) {\n",
       "    embed_document(root);\n",
       "  } else {\n",
       "    var attempts = 0;\n",
       "    var timer = setInterval(function(root) {\n",
       "      if (root.Bokeh !== undefined && root.Bokeh.Panel !== undefined) {\n",
       "        clearInterval(timer);\n",
       "        embed_document(root);\n",
       "      } else if (document.readyState == \"complete\") {\n",
       "        attempts++;\n",
       "        if (attempts > 200) {\n",
       "          clearInterval(timer);\n",
       "          console.log(\"Bokeh: ERROR: Unable to run BokehJS code because BokehJS library is missing\");\n",
       "        }\n",
       "      }\n",
       "    }, 25, root)\n",
       "  }\n",
       "})(window);</script>"
      ],
      "text/plain": [
       "PNG(str, width=50)"
      ]
     },
     "execution_count": 11,
     "metadata": {
      "application/vnd.holoviews_exec.v0+json": {
       "id": "1019"
      }
     },
     "output_type": "execute_result"
    }
   ],
   "source": [
    "resistance_pane = pn.pane.PNG('./images/Resistance.png', width=50)\n",
    "resistance_pane"
   ]
  },
  {
   "cell_type": "code",
   "execution_count": 12,
   "id": "3999cc00-cf72-4728-ba8a-fbbaa148670d",
   "metadata": {},
   "outputs": [
    {
     "data": {},
     "metadata": {},
     "output_type": "display_data"
    },
    {
     "data": {
      "application/vnd.holoviews_exec.v0+json": "",
      "text/html": [
       "<div id='1021'>\n",
       "  <div class=\"bk-root\" id=\"ee7fbc65-a890-4f4f-994a-542179f54012\" data-root-id=\"1021\"></div>\n",
       "</div>\n",
       "<script type=\"application/javascript\">(function(root) {\n",
       "  function embed_document(root) {\n",
       "    var docs_json = {\"b6cc23bb-316e-44af-bd4c-d6d329181560\":{\"defs\":[{\"extends\":null,\"module\":null,\"name\":\"ReactiveHTML1\",\"overrides\":[],\"properties\":[]},{\"extends\":null,\"module\":null,\"name\":\"FlexBox1\",\"overrides\":[],\"properties\":[{\"default\":\"flex-start\",\"kind\":null,\"name\":\"align_content\"},{\"default\":\"flex-start\",\"kind\":null,\"name\":\"align_items\"},{\"default\":\"row\",\"kind\":null,\"name\":\"flex_direction\"},{\"default\":\"wrap\",\"kind\":null,\"name\":\"flex_wrap\"},{\"default\":\"flex-start\",\"kind\":null,\"name\":\"justify_content\"}]},{\"extends\":null,\"module\":null,\"name\":\"GridStack1\",\"overrides\":[],\"properties\":[{\"default\":\"warn\",\"kind\":null,\"name\":\"mode\"},{\"default\":null,\"kind\":null,\"name\":\"ncols\"},{\"default\":null,\"kind\":null,\"name\":\"nrows\"},{\"default\":true,\"kind\":null,\"name\":\"allow_resize\"},{\"default\":true,\"kind\":null,\"name\":\"allow_drag\"},{\"default\":[],\"kind\":null,\"name\":\"state\"}]},{\"extends\":null,\"module\":null,\"name\":\"click1\",\"overrides\":[],\"properties\":[{\"default\":\"\",\"kind\":null,\"name\":\"terminal_output\"},{\"default\":\"\",\"kind\":null,\"name\":\"debug_name\"},{\"default\":0,\"kind\":null,\"name\":\"clears\"}]},{\"extends\":null,\"module\":null,\"name\":\"NotificationAreaBase1\",\"overrides\":[],\"properties\":[{\"default\":\"bottom-right\",\"kind\":null,\"name\":\"position\"},{\"default\":0,\"kind\":null,\"name\":\"_clear\"}]},{\"extends\":null,\"module\":null,\"name\":\"NotificationArea1\",\"overrides\":[],\"properties\":[{\"default\":[],\"kind\":null,\"name\":\"notifications\"},{\"default\":\"bottom-right\",\"kind\":null,\"name\":\"position\"},{\"default\":0,\"kind\":null,\"name\":\"_clear\"},{\"default\":[{\"background\":\"#ffc107\",\"icon\":{\"className\":\"fas fa-exclamation-triangle\",\"color\":\"white\",\"tagName\":\"i\"},\"type\":\"warning\"},{\"background\":\"#007bff\",\"icon\":{\"className\":\"fas fa-info-circle\",\"color\":\"white\",\"tagName\":\"i\"},\"type\":\"info\"}],\"kind\":null,\"name\":\"types\"}]},{\"extends\":null,\"module\":null,\"name\":\"Notification\",\"overrides\":[],\"properties\":[{\"default\":null,\"kind\":null,\"name\":\"background\"},{\"default\":3000,\"kind\":null,\"name\":\"duration\"},{\"default\":null,\"kind\":null,\"name\":\"icon\"},{\"default\":\"\",\"kind\":null,\"name\":\"message\"},{\"default\":null,\"kind\":null,\"name\":\"notification_type\"},{\"default\":false,\"kind\":null,\"name\":\"_destroyed\"}]},{\"extends\":null,\"module\":null,\"name\":\"TemplateActions1\",\"overrides\":[],\"properties\":[{\"default\":0,\"kind\":null,\"name\":\"open_modal\"},{\"default\":0,\"kind\":null,\"name\":\"close_modal\"}]},{\"extends\":null,\"module\":null,\"name\":\"MaterialTemplateActions1\",\"overrides\":[],\"properties\":[{\"default\":0,\"kind\":null,\"name\":\"open_modal\"},{\"default\":0,\"kind\":null,\"name\":\"close_modal\"}]}],\"roots\":{\"references\":[{\"attributes\":{\"background\":\"#f0f0f9\",\"children\":[{\"id\":\"1022\"},{\"id\":\"1023\"}],\"margin\":[0,0,0,0],\"name\":\"Row00133\"},\"id\":\"1021\",\"type\":\"Row\"},{\"attributes\":{\"css_classes\":[\"markdown\"],\"margin\":[5,5,5,5],\"name\":\"ParamFunction00126\",\"text\":\"&lt;p&gt;Current is 5.0 Amperes &lt;/p&gt;\\n&lt;p&gt;Voltage value is Volts 220.0 &lt;/p&gt;\\n&lt;p&gt;Resistance is 44.000 Ohms&lt;/p&gt;\"},\"id\":\"1024\",\"type\":\"panel.models.markup.HTML\"},{\"attributes\":{\"client_comm_id\":\"59150d6b88eb4c768147560dc4e92087\",\"comm_id\":\"e9257370d0364f00a063f421a2344131\",\"plot_id\":\"1021\"},\"id\":\"1025\",\"type\":\"panel.models.comm_manager.CommManager\"},{\"attributes\":{\"children\":[{\"id\":\"1024\"}],\"margin\":[0,0,0,0],\"name\":\"Row00130\"},\"id\":\"1023\",\"type\":\"Row\"},{\"attributes\":{\"height\":66,\"margin\":[5,5,5,5],\"name\":\"PNG00122\",\"text\":\"&lt;img src=&quot;data:image/png;base64,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&quot; width=&quot;50px&quot; height=&quot;66px&quot; alt=&quot;&quot;&gt;&lt;/img&gt;\",\"width\":50},\"id\":\"1022\",\"type\":\"panel.models.markup.HTML\"}],\"root_ids\":[\"1021\",\"1025\"]},\"title\":\"Bokeh Application\",\"version\":\"2.4.3\"}};\n",
       "    var render_items = [{\"docid\":\"b6cc23bb-316e-44af-bd4c-d6d329181560\",\"root_ids\":[\"1021\"],\"roots\":{\"1021\":\"ee7fbc65-a890-4f4f-994a-542179f54012\"}}];\n",
       "    root.Bokeh.embed.embed_items_notebook(docs_json, render_items);\n",
       "    for (const render_item of render_items) {\n",
       "      for (const root_id of render_item.root_ids) {\n",
       "\tconst id_el = document.getElementById(root_id)\n",
       "\tif (id_el.children.length && (id_el.children[0].className === 'bk-root')) {\n",
       "\t  const root_el = id_el.children[0]\n",
       "\t  root_el.id = root_el.id + '-rendered'\n",
       "\t}\n",
       "      }\n",
       "    }\n",
       "  }\n",
       "  if (root.Bokeh !== undefined && root.Bokeh.Panel !== undefined) {\n",
       "    embed_document(root);\n",
       "  } else {\n",
       "    var attempts = 0;\n",
       "    var timer = setInterval(function(root) {\n",
       "      if (root.Bokeh !== undefined && root.Bokeh.Panel !== undefined) {\n",
       "        clearInterval(timer);\n",
       "        embed_document(root);\n",
       "      } else if (document.readyState == \"complete\") {\n",
       "        attempts++;\n",
       "        if (attempts > 200) {\n",
       "          clearInterval(timer);\n",
       "          console.log(\"Bokeh: ERROR: Unable to run BokehJS code because BokehJS library is missing\");\n",
       "        }\n",
       "      }\n",
       "    }, 25, root)\n",
       "  }\n",
       "})(window);</script>"
      ],
      "text/plain": [
       "Row(background='#f0f0f9')\n",
       "    [0] PNG(str, width=50)\n",
       "    [1] ParamFunction(function)"
      ]
     },
     "execution_count": 12,
     "metadata": {
      "application/vnd.holoviews_exec.v0+json": {
       "id": "1021"
      }
     },
     "output_type": "execute_result"
    }
   ],
   "source": [
    "ResPI = pn.Row(resistance_pane, bind2_fn, background='#f0f0f9')\n",
    "ResPI"
   ]
  },
  {
   "cell_type": "code",
   "execution_count": 13,
   "id": "9156f8e5-9ed7-4a19-aba7-6f1fd7d30905",
   "metadata": {},
   "outputs": [],
   "source": [
    "Spacing = pn.pane.HTML(background='#FFFFFF', width=100, height=100)\n",
    "Part1 = pn.Column(VoltPI,  CurrPI)\n",
    "Part2 = pn.Column(Spacing, ResPI)\n",
    "Part3 = pn.Row(Part1, pn.Spacer(width=10), Part2)"
   ]
  },
  {
   "cell_type": "code",
   "execution_count": 14,
   "id": "996406e7-e842-4c3b-8bf4-1f93af8d9dbf",
   "metadata": {},
   "outputs": [
    {
     "data": {},
     "metadata": {},
     "output_type": "display_data"
    },
    {
     "data": {
      "application/vnd.holoviews_exec.v0+json": "",
      "text/html": [
       "<div id='1026'>\n",
       "  <div class=\"bk-root\" id=\"cd856a40-9ba4-49e0-bf14-71947e307c3e\" data-root-id=\"1026\"></div>\n",
       "</div>\n",
       "<script type=\"application/javascript\">(function(root) {\n",
       "  function embed_document(root) {\n",
       "    var docs_json = {\"8b6d42eb-51ce-492d-be22-c5944d995f2b\":{\"defs\":[{\"extends\":null,\"module\":null,\"name\":\"ReactiveHTML1\",\"overrides\":[],\"properties\":[]},{\"extends\":null,\"module\":null,\"name\":\"FlexBox1\",\"overrides\":[],\"properties\":[{\"default\":\"flex-start\",\"kind\":null,\"name\":\"align_content\"},{\"default\":\"flex-start\",\"kind\":null,\"name\":\"align_items\"},{\"default\":\"row\",\"kind\":null,\"name\":\"flex_direction\"},{\"default\":\"wrap\",\"kind\":null,\"name\":\"flex_wrap\"},{\"default\":\"flex-start\",\"kind\":null,\"name\":\"justify_content\"}]},{\"extends\":null,\"module\":null,\"name\":\"GridStack1\",\"overrides\":[],\"properties\":[{\"default\":\"warn\",\"kind\":null,\"name\":\"mode\"},{\"default\":null,\"kind\":null,\"name\":\"ncols\"},{\"default\":null,\"kind\":null,\"name\":\"nrows\"},{\"default\":true,\"kind\":null,\"name\":\"allow_resize\"},{\"default\":true,\"kind\":null,\"name\":\"allow_drag\"},{\"default\":[],\"kind\":null,\"name\":\"state\"}]},{\"extends\":null,\"module\":null,\"name\":\"click1\",\"overrides\":[],\"properties\":[{\"default\":\"\",\"kind\":null,\"name\":\"terminal_output\"},{\"default\":\"\",\"kind\":null,\"name\":\"debug_name\"},{\"default\":0,\"kind\":null,\"name\":\"clears\"}]},{\"extends\":null,\"module\":null,\"name\":\"NotificationAreaBase1\",\"overrides\":[],\"properties\":[{\"default\":\"bottom-right\",\"kind\":null,\"name\":\"position\"},{\"default\":0,\"kind\":null,\"name\":\"_clear\"}]},{\"extends\":null,\"module\":null,\"name\":\"NotificationArea1\",\"overrides\":[],\"properties\":[{\"default\":[],\"kind\":null,\"name\":\"notifications\"},{\"default\":\"bottom-right\",\"kind\":null,\"name\":\"position\"},{\"default\":0,\"kind\":null,\"name\":\"_clear\"},{\"default\":[{\"background\":\"#ffc107\",\"icon\":{\"className\":\"fas fa-exclamation-triangle\",\"color\":\"white\",\"tagName\":\"i\"},\"type\":\"warning\"},{\"background\":\"#007bff\",\"icon\":{\"className\":\"fas fa-info-circle\",\"color\":\"white\",\"tagName\":\"i\"},\"type\":\"info\"}],\"kind\":null,\"name\":\"types\"}]},{\"extends\":null,\"module\":null,\"name\":\"Notification\",\"overrides\":[],\"properties\":[{\"default\":null,\"kind\":null,\"name\":\"background\"},{\"default\":3000,\"kind\":null,\"name\":\"duration\"},{\"default\":null,\"kind\":null,\"name\":\"icon\"},{\"default\":\"\",\"kind\":null,\"name\":\"message\"},{\"default\":null,\"kind\":null,\"name\":\"notification_type\"},{\"default\":false,\"kind\":null,\"name\":\"_destroyed\"}]},{\"extends\":null,\"module\":null,\"name\":\"TemplateActions1\",\"overrides\":[],\"properties\":[{\"default\":0,\"kind\":null,\"name\":\"open_modal\"},{\"default\":0,\"kind\":null,\"name\":\"close_modal\"}]},{\"extends\":null,\"module\":null,\"name\":\"MaterialTemplateActions1\",\"overrides\":[],\"properties\":[{\"default\":0,\"kind\":null,\"name\":\"open_modal\"},{\"default\":0,\"kind\":null,\"name\":\"close_modal\"}]}],\"roots\":{\"references\":[{\"attributes\":{\"margin\":[5,5,5,5],\"min_width\":10,\"name\":\"Spacer00140\",\"width\":10},\"id\":\"1034\",\"type\":\"Spacer\"},{\"attributes\":{\"background\":\"#FFFFFF\",\"height\":100,\"margin\":[5,5,5,5],\"name\":\"HTML00136\",\"sizing_mode\":\"fixed\",\"width\":100},\"id\":\"1036\",\"type\":\"panel.models.markup.HTML\"},{\"attributes\":{\"height\":66,\"margin\":[5,5,5,5],\"name\":\"PNG00122\",\"text\":\"&lt;img src=&quot;data:image/png;base64,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&quot; width=&quot;50px&quot; height=&quot;66px&quot; alt=&quot;&quot;&gt;&lt;/img&gt;\",\"width\":50},\"id\":\"1038\",\"type\":\"panel.models.markup.HTML\"},{\"attributes\":{\"background\":\"#f0f0f9\",\"children\":[{\"id\":\"1038\"},{\"id\":\"1039\"}],\"margin\":[0,0,0,0],\"name\":\"Row00133\"},\"id\":\"1037\",\"type\":\"Row\"},{\"attributes\":{\"height\":104,\"margin\":[5,5,5,5],\"name\":\"PNG00112\",\"text\":\"&lt;img src=&quot;data:image/png;base64,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&quot; width=&quot;100px&quot; height=&quot;104px&quot; alt=&quot;&quot;&gt;&lt;/img&gt;\",\"width\":100},\"id\":\"1032\",\"type\":\"panel.models.markup.HTML\"},{\"attributes\":{\"children\":[{\"id\":\"1028\"},{\"id\":\"1031\"}],\"margin\":[0,0,0,0],\"name\":\"Column00138\"},\"id\":\"1027\",\"type\":\"Column\"},{\"attributes\":{\"high\":1000,\"low\":0,\"margin\":[10,5,5,10],\"min_width\":100,\"placeholder\":\"0\",\"step\":0.1,\"title\":\"Current\",\"value\":5.0,\"value_throttled\":5.0,\"width\":100},\"id\":\"1033\",\"type\":\"Spinner\"},{\"attributes\":{\"background\":\"#f0f0f1\",\"children\":[{\"id\":\"1032\"},{\"id\":\"1033\"}],\"margin\":[0,0,0,0],\"name\":\"Column00119\"},\"id\":\"1031\",\"type\":\"Column\"},{\"attributes\":{\"children\":[{\"id\":\"1027\"},{\"id\":\"1034\"},{\"id\":\"1035\"}],\"margin\":[0,0,0,0],\"name\":\"Row00141\"},\"id\":\"1026\",\"type\":\"Row\"},{\"attributes\":{\"css_classes\":[\"markdown\"],\"margin\":[5,5,5,5],\"name\":\"ParamFunction00126\",\"text\":\"&lt;p&gt;Current is 5.0 Amperes &lt;/p&gt;\\n&lt;p&gt;Voltage value is Volts 220.0 &lt;/p&gt;\\n&lt;p&gt;Resistance is 44.000 Ohms&lt;/p&gt;\"},\"id\":\"1040\",\"type\":\"panel.models.markup.HTML\"},{\"attributes\":{\"background\":\"#f0f0f0\",\"children\":[{\"id\":\"1029\"},{\"id\":\"1030\"}],\"margin\":[0,0,0,0],\"name\":\"Column00116\"},\"id\":\"1028\",\"type\":\"Column\"},{\"attributes\":{\"client_comm_id\":\"51345d52c8df4d6f8f0b46db38c66830\",\"comm_id\":\"4de849babe3b443cb824bb5a850cbf37\",\"plot_id\":\"1026\"},\"id\":\"1041\",\"type\":\"panel.models.comm_manager.CommManager\"},{\"attributes\":{\"children\":[{\"id\":\"1036\"},{\"id\":\"1037\"}],\"margin\":[0,0,0,0],\"name\":\"Column00139\"},\"id\":\"1035\",\"type\":\"Column\"},{\"attributes\":{\"high\":1000,\"low\":0,\"margin\":[10,5,5,10],\"min_width\":100,\"placeholder\":\"0\",\"step\":0.1,\"title\":\"Voltage\",\"value\":220.0,\"value_throttled\":220.0,\"width\":100},\"id\":\"1030\",\"type\":\"Spinner\"},{\"attributes\":{\"children\":[{\"id\":\"1040\"}],\"margin\":[0,0,0,0],\"name\":\"Row00130\"},\"id\":\"1039\",\"type\":\"Row\"},{\"attributes\":{\"height\":51,\"margin\":[5,5,5,5],\"name\":\"PNG00108\",\"text\":\"&lt;img src=&quot;data:image/png;base64,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&quot; width=&quot;100px&quot; height=&quot;51px&quot; alt=&quot;&quot;&gt;&lt;/img&gt;\",\"width\":100},\"id\":\"1029\",\"type\":\"panel.models.markup.HTML\"}],\"root_ids\":[\"1026\",\"1041\"]},\"title\":\"Bokeh Application\",\"version\":\"2.4.3\"}};\n",
       "    var render_items = [{\"docid\":\"8b6d42eb-51ce-492d-be22-c5944d995f2b\",\"root_ids\":[\"1026\"],\"roots\":{\"1026\":\"cd856a40-9ba4-49e0-bf14-71947e307c3e\"}}];\n",
       "    root.Bokeh.embed.embed_items_notebook(docs_json, render_items);\n",
       "    for (const render_item of render_items) {\n",
       "      for (const root_id of render_item.root_ids) {\n",
       "\tconst id_el = document.getElementById(root_id)\n",
       "\tif (id_el.children.length && (id_el.children[0].className === 'bk-root')) {\n",
       "\t  const root_el = id_el.children[0]\n",
       "\t  root_el.id = root_el.id + '-rendered'\n",
       "\t}\n",
       "      }\n",
       "    }\n",
       "  }\n",
       "  if (root.Bokeh !== undefined && root.Bokeh.Panel !== undefined) {\n",
       "    embed_document(root);\n",
       "  } else {\n",
       "    var attempts = 0;\n",
       "    var timer = setInterval(function(root) {\n",
       "      if (root.Bokeh !== undefined && root.Bokeh.Panel !== undefined) {\n",
       "        clearInterval(timer);\n",
       "        embed_document(root);\n",
       "      } else if (document.readyState == \"complete\") {\n",
       "        attempts++;\n",
       "        if (attempts > 200) {\n",
       "          clearInterval(timer);\n",
       "          console.log(\"Bokeh: ERROR: Unable to run BokehJS code because BokehJS library is missing\");\n",
       "        }\n",
       "      }\n",
       "    }, 25, root)\n",
       "  }\n",
       "})(window);</script>"
      ],
      "text/plain": [
       "Row\n",
       "    [0] Column\n",
       "        [0] Column(background='#f0f0f0')\n",
       "            [0] PNG(str, width=100)\n",
       "            [1] FloatInput(end=1000, margin=(10, 5, 5, 10), name='Voltage', start=0, value=220.0, width=100)\n",
       "        [1] Column(background='#f0f0f1')\n",
       "            [0] PNG(str, width=100)\n",
       "            [1] FloatInput(end=1000, margin=(10, 5, 5, 10), name='Current', start=0, value=5.0, width=100)\n",
       "    [1] Spacer(width=10)\n",
       "    [2] Column\n",
       "        [0] HTML(None, background='#FFFFFF', height=100, sizing_mode='fixed', width=100)\n",
       "        [1] Row(background='#f0f0f9')\n",
       "            [0] PNG(str, width=50)\n",
       "            [1] ParamFunction(function)"
      ]
     },
     "execution_count": 14,
     "metadata": {
      "application/vnd.holoviews_exec.v0+json": {
       "id": "1026"
      }
     },
     "output_type": "execute_result"
    }
   ],
   "source": [
    "Part3"
   ]
  },
  {
   "cell_type": "code",
   "execution_count": null,
   "id": "28a00438-a25c-4662-985d-0540eaee0b5d",
   "metadata": {},
   "outputs": [],
   "source": [
    "pn.serve(Part3)"
   ]
  }
 ],
 "metadata": {
  "kernelspec": {
   "display_name": "Python 3 (ipykernel)",
   "language": "python",
   "name": "python3"
  },
  "language_info": {
   "codemirror_mode": {
    "name": "ipython",
    "version": 3
   },
   "file_extension": ".py",
   "mimetype": "text/x-python",
   "name": "python",
   "nbconvert_exporter": "python",
   "pygments_lexer": "ipython3",
   "version": "3.8.10"
  }
 },
 "nbformat": 4,
 "nbformat_minor": 5
}
